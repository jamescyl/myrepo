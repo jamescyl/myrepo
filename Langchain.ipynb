{
  "nbformat": 4,
  "nbformat_minor": 0,
  "metadata": {
    "colab": {
      "provenance": [],
      "gpuType": "T4",
      "mount_file_id": "https://github.com/jamescyl/myrepo/blob/main/Langchain.ipynb",
      "authorship_tag": "ABX9TyPXRmVxt7AiI1T26lTJ4VsF",
      "include_colab_link": true
    },
    "kernelspec": {
      "name": "python3",
      "display_name": "Python 3"
    },
    "language_info": {
      "name": "python"
    },
    "accelerator": "GPU"
  },
  "cells": [
    {
      "cell_type": "markdown",
      "metadata": {
        "id": "view-in-github",
        "colab_type": "text"
      },
      "source": [
        "<a href=\"https://colab.research.google.com/github/jamescyl/myrepo/blob/main/Langchain.ipynb\" target=\"_parent\"><img src=\"https://colab.research.google.com/assets/colab-badge.svg\" alt=\"Open In Colab\"/></a>"
      ]
    },
    {
      "cell_type": "code",
      "source": [
        "!pip install streamlit\n",
        "!pip install langchain\n",
        "!pip install google-generativeai langchain-google-genai\n",
        "!pip install wikipedia"
      ],
      "metadata": {
        "id": "TOsnkxxv642V"
      },
      "execution_count": null,
      "outputs": []
    },
    {
      "cell_type": "code",
      "source": [
        "#Bring in deps\n",
        "import os\n",
        "import sys\n",
        "sys.path.append('/content/drive/MyDrive')\n",
        "from apikey import apikey\n",
        "\n",
        "os.environ['API_KEY'] = apikey\n",
        "GOOGLE_API_KEY = apikey\n",
        "\n"
      ],
      "metadata": {
        "id": "4pATGeMB0nr7"
      },
      "execution_count": null,
      "outputs": []
    },
    {
      "cell_type": "code",
      "source": [
        "\n",
        "#import streamlit as st\n",
        "from langchain_google_genai import ChatGoogleGenerativeAI\n",
        "from langchain.prompts import PromptTemplate\n",
        "from langchain.chains import LLMChain, SequentialChain\n",
        "from langchain.memory import ConversationBufferMemory\n",
        "from langchain.utilities import WikipediaAPIWrapper\n",
        "\n",
        "\n",
        "os.environ['API_KEY'] = apikey\n",
        "GOOGLE_API_KEY = apikey\n",
        "\n",
        "# App framework\n",
        "#st.title('YouTube GPT Creator')\n",
        "# Insert the streamlit run command\n",
        "#!streamlit run /usr/local/lib/python3.10/dist-packages/colab_kernel_launcher.py st_view.py\n",
        "#prompt = st.text_input('Plug in your prompt here')\n",
        "\n",
        "my_prompt = 'Wonderful world'\n",
        "\n",
        "# Prompt templates\n",
        "title_template = PromptTemplate(\n",
        "    input_variables = ['topic'],\n",
        "    template='write me a youtube video title about {topic}'\n",
        ")\n",
        "\n",
        "script_template = PromptTemplate(\n",
        "    input_variables = ['title', 'wikipedia_research'],\n",
        "    template='write me a youtube video script based on this title TITLE: {title} while leveraging this wikipedia reserch:{wikipedia_research} '\n",
        ")\n",
        "\n",
        "# Memory\n",
        "title_memory = ConversationBufferMemory(input_key='topic', memory_key='chat_history')\n",
        "script_memory = ConversationBufferMemory(input_key='title', memory_key='chat_history')\n",
        "\n",
        "# Llms\n",
        "llm = ChatGoogleGenerativeAI(model=\"gemini-pro\", google_api_key=GOOGLE_API_KEY)\n",
        "title_chain = LLMChain(llm=llm, prompt=title_template, verbose=True, output_key='title', memory=title_memory)\n",
        "script_chain = LLMChain(llm=llm, prompt=script_template, verbose=True, output_key='script', memory=script_memory)\n",
        "\n",
        "wiki = WikipediaAPIWrapper()\n",
        "\n",
        "# Show stuff to the screen if there's a prompt\n",
        "if my_prompt:\n",
        "    title = title_chain.run(my_prompt)\n",
        "    wiki_research = wiki.run(my_prompt)\n",
        "    script = script_chain.run(title=title, wikipedia_research=wiki_research)\n",
        "\n",
        "print(my_prompt)\n",
        "print(title_memory.buffer)\n",
        "print(script_memory.buffer)\n",
        "\n",
        "\"\"\"\n",
        "    st.write(title)\n",
        "    st.write(script)\n",
        "\n",
        "    with st.expander('Title History'):\n",
        "        st.info(title_memory.buffer)\n",
        "\n",
        "    with st.expander('Script History'):\n",
        "        st.info(script_memory.buffer)\n",
        "\n",
        "    with st.expander('Wikipedia Research'):\n",
        "        st.info(wiki_research)\n",
        "\"\"\"\n",
        "\n",
        "\n",
        "#llm = ChatGoogleGenerativeAI(model=\"gemini-pro\", google_api_key=GOOGLE_API_KEY)\n",
        "#tweet_prompt = PromptTemplate.from_template(\"You are a content creator. Write me a tweet about {topic}.\")\n",
        "#tweet_chain = LLMChain(llm=llm, prompt=tweet_prompt, verbose=True)\n",
        "#if __name__==\"__main__\":\n",
        "#    topic = \"what is streamlit?\"\n",
        "#    resp = tweet_chain.run(topic=topic)\n",
        "#    print(resp)"
      ],
      "metadata": {
        "id": "ShhGIOyk6W65"
      },
      "execution_count": null,
      "outputs": []
    },
    {
      "cell_type": "code",
      "source": [
        "from langchain_google_genai import ChatGoogleGenerativeAI\n",
        "from langchain_core.messages import HumanMessage, SystemMessage\n",
        "\n",
        "image_url = '/content/drive/MyDrive/SAM_0147.JPG'\n",
        "\n",
        "import matplotlib.pyplot as plt\n",
        "from PIL import Image\n",
        "\n",
        "# Load the image\n",
        "image = Image.open(image_url)\n",
        "\n",
        "# Display the image\n",
        "plt.imshow(image)\n",
        "plt.show()\n",
        "\n",
        "\n",
        "# Llms\n",
        "llm = ChatGoogleGenerativeAI(model=\"gemini-pro-vision\", google_api_key=GOOGLE_API_KEY)\n",
        "message = HumanMessage(\n",
        "    content = [\n",
        "        {\n",
        "            \"type\": \"text\",\n",
        "            \"text\": \"What's in this image?\",\n",
        "        }, # You can optionally provide text paths\n",
        "        {\"type\": \"image_url\",\"image_url\": image_url},\n",
        "    ]\n",
        ")\n",
        "llm.invoke([message])\n"
      ],
      "metadata": {
        "id": "m3Lypb-5vxyj"
      },
      "execution_count": null,
      "outputs": []
    },
    {
      "cell_type": "code",
      "source": [
        "from langchain_google_genai import GoogleGenerativeAIEmbeddings\n",
        "\n",
        "embeddings = GoogleGenerativeAIEmbeddings(model=\"models/embedding-001\", google_api_key=GOOGLE_API_KEY)\n",
        "embeddings.embed_query(\"hello, world!\")"
      ],
      "metadata": {
        "id": "-Fs1HztdOJmn"
      },
      "execution_count": null,
      "outputs": []
    },
    {
      "cell_type": "code",
      "source": [
        "!pip install google-cloud-core\n"
      ],
      "metadata": {
        "id": "KUNmup16WRCp"
      },
      "execution_count": null,
      "outputs": []
    },
    {
      "cell_type": "code",
      "source": [
        "import google.cloud\n",
        "\n",
        "# Create a client\n",
        "client = google.cloud.vectorstore.v1.VectorStoreServiceClient()\n",
        "\n",
        "# Set the project ID and region\n",
        "project_id = \"YOUR_PROJECT_ID\"\n",
        "region = \"YOUR_REGION\"  # e.g., \"us-central1\"\n",
        "\n",
        "# Set the Vector Store ID\n",
        "vector_store_id = \"YOUR_VECTOR_STORE_ID\"\n",
        "\n",
        "# Set the Vector Store spec\n",
        "spec = {\"dimensionality\": 512}\n",
        "\n",
        "# Create the Vector Store\n",
        "vector_store = client.create_vector_store(\n",
        "    parent=f\"projects/{project_id}/locations/{region}\",\n",
        "    vector_store_id=vector_store_id,\n",
        "    vector_store=spec,\n",
        ")\n",
        "\n",
        "# Print the Vector Store name\n",
        "print(f\"Vector Store created: {vector_store.name}\")\n"
      ],
      "metadata": {
        "id": "Za6oKXuuQRX6"
      },
      "execution_count": null,
      "outputs": []
    },
    {
      "cell_type": "code",
      "source": [
        "from google.cloud import GoogleVectorStore\n",
        "\n",
        "# Create a new store for housing your documents.\n",
        "corpus_store = GoogleVectorStore.create_corpus(display_name=\"My Corpus\")\n",
        "\n",
        "# Create a new document under the above corpus.\n",
        "document_store = GoogleVectorStore.create_document(\n",
        "    corpus_id=corpus_store.corpus_id, display_name=\"My Document\"\n",
        ")\n",
        "\n",
        "# Upload some texts to the document.\n",
        "text_splitter = CharacterTextSplitter(chunk_size=500, chunk_overlap=0)\n",
        "for file in DirectoryLoader(path=\"data/\").load():\n",
        "    documents = text_splitter.split_documents([file])\n",
        "    document_store.add_documents(documents)\n",
        "\n",
        "# Talk to your entire corpus with possibly many documents.\n",
        "aqa = corpus_store.as_aqa()\n",
        "answer = aqa.invoke(\"What is the meaning of life?\")\n",
        "\n",
        "# Read the response along with the attributed passages and answerability.\n",
        "print(response.answer)\n",
        "print(response.attributed_passages)\n",
        "print(response.answerable_probability)"
      ],
      "metadata": {
        "id": "RIn7Ntq0PAMC"
      },
      "execution_count": null,
      "outputs": []
    },
    {
      "cell_type": "code",
      "source": [
        "# Colab already has Gemini libraries installed\n",
        "# Reference: https://ai.google.dev/tutorials/python_quickstart?hl=en\n",
        "# !pip install -q -U google-generativeai\n",
        "!pip install chromadb\n",
        "!pip install sentence-transformers # For converting text to vector embeddings\n"
      ],
      "metadata": {
        "id": "7P6pn-USJvo2"
      },
      "execution_count": null,
      "outputs": []
    },
    {
      "cell_type": "code",
      "source": [
        "!pip install langchain\n",
        "!pip install PyPDF2"
      ],
      "metadata": {
        "id": "z062Qd1aTdyv"
      },
      "execution_count": null,
      "outputs": []
    },
    {
      "cell_type": "code",
      "source": [
        "# Gemini API\n",
        "import google.generativeai as genai\n",
        "\n",
        "# ChromaDB\n",
        "import chromadb\n",
        "from chromadb.utils import embedding_functions\n",
        "\n",
        "from PyPDF2 import PdfReader\n",
        "from langchain.text_splitter import CharacterTextSplitter\n",
        "\n",
        "from langchain.document_loaders import DirectoryLoader\n",
        "\n",
        "from google.colab import userdata\n",
        "GEMINI_API_KEY = userdata.get('GEMINI_API_KEY')"
      ],
      "metadata": {
        "id": "OrppNu4UBTnJ"
      },
      "execution_count": 12,
      "outputs": []
    },
    {
      "cell_type": "code",
      "source": [
        "genai.configure(api_key=GEMINI_API_KEY)\n",
        "genai_model = genai.GenerativeModel('gemini-pro')\n",
        "\n",
        "# Load vector database, or create new on first run\n",
        "chroma_client = chromadb.PersistentClient(path='/content/drive/MyDrive/Colab Notebooks/PdfDB/db')\n",
        "\n",
        "# Select the embedding model to use.\n",
        "# List of model names can be found here https://www.sbert.net/docs/pretrained_models.html\n",
        "sentence_transformer_ef = embedding_functions.SentenceTransformerEmbeddingFunction(model_name=\"all-mpnet-base-v2\")\n",
        "\n",
        "# Load collection, or create new on first run. Specify the model that we want to use to do the embedding.\n",
        "chroma_collection = chroma_client.get_or_create_collection(name='PdfDB', embedding_function=sentence_transformer_ef)\n",
        "\n",
        "\n",
        "def get_pdf_text(pdf_docs):\n",
        "    text = \"\"\n",
        "    for pdf in pdf_docs:\n",
        "        pdf_reader = PdfReader(pdf)\n",
        "        for page in pdf_reader.pages:\n",
        "            text += page.extract_text()\n",
        "    return text\n",
        "\n",
        "\n",
        "def get_text_chunks(text):\n",
        "    text_splitter = CharacterTextSplitter(\n",
        "        separator=\"\\n\",\n",
        "        chunk_size=1000,\n",
        "        chunk_overlap=200,\n",
        "        length_function=len\n",
        "    )\n",
        "    chunks = text_splitter.split_text(text)\n",
        "    return chunks\n",
        "\n",
        "def main():\n",
        "    for file in DirectoryLoader(path=\"/content/drive/MyDrive/Colab Notebooks/Pdfs/\").load():\n",
        "        #get pdf text\n",
        "        raw_text = get_pdf_text([file])\n",
        "        #get text chunks\n",
        "        text_chunks = get_text_chunks(raw_text)\n",
        "\n",
        "main()\n",
        "# Upload some texts to the document.\n",
        "#text_splitter = CharacterTextSplitter(chunk_size=500, chunk_overlap=0)\n",
        "#for file in DirectoryLoader(path=\"/content/drive/MyDrive/Colab Notebooks/Pdfs/\").load():\n",
        "#    documents = text_splitter.split_documents([file])\n",
        "#    document_store.add_documents(documents)"
      ],
      "metadata": {
        "id": "MhnCGP7gl82b"
      },
      "execution_count": 13,
      "outputs": []
    }
  ]
}