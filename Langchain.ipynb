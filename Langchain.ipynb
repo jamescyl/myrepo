{
  "nbformat": 4,
  "nbformat_minor": 0,
  "metadata": {
    "colab": {
      "provenance": [],
      "gpuType": "T4",
      "mount_file_id": "https://github.com/jamescyl/myrepo/blob/main/Langchain.ipynb",
      "authorship_tag": "ABX9TyMA8HJg2DQ5WoKN5PpO52BT",
      "include_colab_link": true
    },
    "kernelspec": {
      "name": "python3",
      "display_name": "Python 3"
    },
    "language_info": {
      "name": "python"
    },
    "accelerator": "GPU"
  },
  "cells": [
    {
      "cell_type": "markdown",
      "metadata": {
        "id": "view-in-github",
        "colab_type": "text"
      },
      "source": [
        "<a href=\"https://colab.research.google.com/github/jamescyl/myrepo/blob/main/Langchain.ipynb\" target=\"_parent\"><img src=\"https://colab.research.google.com/assets/colab-badge.svg\" alt=\"Open In Colab\"/></a>"
      ]
    },
    {
      "cell_type": "code",
      "source": [
        "!pip install streamlit\n",
        "!pip install langchain\n",
        "!pip install google-generativeai langchain-google-genai\n",
        "!pip install wikipedia"
      ],
      "metadata": {
        "id": "TOsnkxxv642V"
      },
      "execution_count": null,
      "outputs": []
    },
    {
      "cell_type": "code",
      "source": [
        "#Bring in deps\n",
        "import os\n",
        "import sys\n",
        "sys.path.append('/content/drive/MyDrive')\n",
        "from apikey import apikey\n",
        "\n",
        "os.environ['API_KEY'] = apikey\n",
        "GOOGLE_API_KEY = apikey\n",
        "\n"
      ],
      "metadata": {
        "id": "4pATGeMB0nr7"
      },
      "execution_count": 2,
      "outputs": []
    },
    {
      "cell_type": "code",
      "source": [
        "\n",
        "#import streamlit as st\n",
        "from langchain_google_genai import ChatGoogleGenerativeAI\n",
        "from langchain.prompts import PromptTemplate\n",
        "from langchain.chains import LLMChain, SequentialChain\n",
        "from langchain.memory import ConversationBufferMemory\n",
        "from langchain.utilities import WikipediaAPIWrapper\n",
        "\n",
        "\n",
        "os.environ['API_KEY'] = apikey\n",
        "GOOGLE_API_KEY = apikey\n",
        "\n",
        "# App framework\n",
        "#st.title('YouTube GPT Creator')\n",
        "# Insert the streamlit run command\n",
        "#!streamlit run /usr/local/lib/python3.10/dist-packages/colab_kernel_launcher.py st_view.py\n",
        "#prompt = st.text_input('Plug in your prompt here')\n",
        "\n",
        "my_prompt = 'Wonderful world'\n",
        "\n",
        "# Prompt templates\n",
        "title_template = PromptTemplate(\n",
        "    input_variables = ['topic'],\n",
        "    template='write me a youtube video title about {topic}'\n",
        ")\n",
        "\n",
        "script_template = PromptTemplate(\n",
        "    input_variables = ['title', 'wikipedia_research'],\n",
        "    template='write me a youtube video script based on this title TITLE: {title} while leveraging this wikipedia reserch:{wikipedia_research} '\n",
        ")\n",
        "\n",
        "# Memory\n",
        "title_memory = ConversationBufferMemory(input_key='topic', memory_key='chat_history')\n",
        "script_memory = ConversationBufferMemory(input_key='title', memory_key='chat_history')\n",
        "\n",
        "# Llms\n",
        "llm = ChatGoogleGenerativeAI(model=\"gemini-pro\", google_api_key=GOOGLE_API_KEY)\n",
        "title_chain = LLMChain(llm=llm, prompt=title_template, verbose=True, output_key='title', memory=title_memory)\n",
        "script_chain = LLMChain(llm=llm, prompt=script_template, verbose=True, output_key='script', memory=script_memory)\n",
        "\n",
        "wiki = WikipediaAPIWrapper()\n",
        "\n",
        "# Show stuff to the screen if there's a prompt\n",
        "if my_prompt:\n",
        "    title = title_chain.run(my_prompt)\n",
        "    wiki_research = wiki.run(my_prompt)\n",
        "    script = script_chain.run(title=title, wikipedia_research=wiki_research)\n",
        "\n",
        "print(my_prompt)\n",
        "print(title_memory.buffer)\n",
        "print(script_memory.buffer)\n",
        "\n",
        "\"\"\"\n",
        "    st.write(title)\n",
        "    st.write(script)\n",
        "\n",
        "    with st.expander('Title History'):\n",
        "        st.info(title_memory.buffer)\n",
        "\n",
        "    with st.expander('Script History'):\n",
        "        st.info(script_memory.buffer)\n",
        "\n",
        "    with st.expander('Wikipedia Research'):\n",
        "        st.info(wiki_research)\n",
        "\"\"\"\n",
        "\n",
        "\n",
        "#llm = ChatGoogleGenerativeAI(model=\"gemini-pro\", google_api_key=GOOGLE_API_KEY)\n",
        "#tweet_prompt = PromptTemplate.from_template(\"You are a content creator. Write me a tweet about {topic}.\")\n",
        "#tweet_chain = LLMChain(llm=llm, prompt=tweet_prompt, verbose=True)\n",
        "#if __name__==\"__main__\":\n",
        "#    topic = \"what is streamlit?\"\n",
        "#    resp = tweet_chain.run(topic=topic)\n",
        "#    print(resp)"
      ],
      "metadata": {
        "id": "ShhGIOyk6W65"
      },
      "execution_count": null,
      "outputs": []
    },
    {
      "cell_type": "code",
      "source": [
        "from langchain_google_genai import ChatGoogleGenerativeAI\n",
        "from langchain_core.messages import HumanMessage, SystemMessage\n",
        "\n",
        "image_url = '/content/drive/MyDrive/SAM_0147.JPG'\n",
        "\n",
        "import matplotlib.pyplot as plt\n",
        "from PIL import Image\n",
        "\n",
        "# Load the image\n",
        "image = Image.open(image_url)\n",
        "\n",
        "# Display the image\n",
        "plt.imshow(image)\n",
        "plt.show()\n",
        "\n",
        "\n",
        "# Llms\n",
        "llm = ChatGoogleGenerativeAI(model=\"gemini-pro-vision\", google_api_key=GOOGLE_API_KEY)\n",
        "message = HumanMessage(\n",
        "    content = [\n",
        "        {\n",
        "            \"type\": \"text\",\n",
        "            \"text\": \"What's in this image?\",\n",
        "        }, # You can optionally provide text paths\n",
        "        {\"type\": \"image_url\",\"image_url\": image_url},\n",
        "    ]\n",
        ")\n",
        "llm.invoke([message])\n"
      ],
      "metadata": {
        "id": "m3Lypb-5vxyj"
      },
      "execution_count": null,
      "outputs": []
    },
    {
      "cell_type": "code",
      "source": [
        "from langchain_google_genai import GoogleGenerativeAIEmbeddings\n",
        "\n",
        "embeddings = GoogleGenerativeAIEmbeddings(model=\"models/embedding-001\", google_api_key=GOOGLE_API_KEY)\n",
        "embeddings.embed_query(\"hello, world!\")"
      ],
      "metadata": {
        "id": "-Fs1HztdOJmn"
      },
      "execution_count": null,
      "outputs": []
    },
    {
      "cell_type": "code",
      "source": [
        "!pip install google-cloud-core\n"
      ],
      "metadata": {
        "id": "KUNmup16WRCp"
      },
      "execution_count": null,
      "outputs": []
    },
    {
      "cell_type": "code",
      "source": [
        "import google.cloud\n",
        "\n",
        "# Create a client\n",
        "client = google.cloud.vectorstore.v1.VectorStoreServiceClient()\n",
        "\n",
        "# Set the project ID and region\n",
        "project_id = \"YOUR_PROJECT_ID\"\n",
        "region = \"YOUR_REGION\"  # e.g., \"us-central1\"\n",
        "\n",
        "# Set the Vector Store ID\n",
        "vector_store_id = \"YOUR_VECTOR_STORE_ID\"\n",
        "\n",
        "# Set the Vector Store spec\n",
        "spec = {\"dimensionality\": 512}\n",
        "\n",
        "# Create the Vector Store\n",
        "vector_store = client.create_vector_store(\n",
        "    parent=f\"projects/{project_id}/locations/{region}\",\n",
        "    vector_store_id=vector_store_id,\n",
        "    vector_store=spec,\n",
        ")\n",
        "\n",
        "# Print the Vector Store name\n",
        "print(f\"Vector Store created: {vector_store.name}\")\n"
      ],
      "metadata": {
        "id": "Za6oKXuuQRX6"
      },
      "execution_count": null,
      "outputs": []
    },
    {
      "cell_type": "code",
      "source": [
        "from google.cloud import GoogleVectorStore\n",
        "\n",
        "# Create a new store for housing your documents.\n",
        "corpus_store = GoogleVectorStore.create_corpus(display_name=\"My Corpus\")\n",
        "\n",
        "# Create a new document under the above corpus.\n",
        "document_store = GoogleVectorStore.create_document(\n",
        "    corpus_id=corpus_store.corpus_id, display_name=\"My Document\"\n",
        ")\n",
        "\n",
        "# Upload some texts to the document.\n",
        "text_splitter = CharacterTextSplitter(chunk_size=500, chunk_overlap=0)\n",
        "for file in DirectoryLoader(path=\"data/\").load():\n",
        "    documents = text_splitter.split_documents([file])\n",
        "    document_store.add_documents(documents)\n",
        "\n",
        "# Talk to your entire corpus with possibly many documents.\n",
        "aqa = corpus_store.as_aqa()\n",
        "answer = aqa.invoke(\"What is the meaning of life?\")\n",
        "\n",
        "# Read the response along with the attributed passages and answerability.\n",
        "print(response.answer)\n",
        "print(response.attributed_passages)\n",
        "print(response.answerable_probability)"
      ],
      "metadata": {
        "colab": {
          "base_uri": "https://localhost:8080/",
          "height": 384
        },
        "id": "RIn7Ntq0PAMC",
        "outputId": "ec9014f3-d467-4e8d-e1ee-413b662218ca"
      },
      "execution_count": 42,
      "outputs": [
        {
          "output_type": "error",
          "ename": "ImportError",
          "evalue": "cannot import name 'GoogleVectorStore' from 'google.cloud' (unknown location)",
          "traceback": [
            "\u001b[0;31m---------------------------------------------------------------------------\u001b[0m",
            "\u001b[0;31mImportError\u001b[0m                               Traceback (most recent call last)",
            "\u001b[0;32m<ipython-input-42-6c00696e6ea7>\u001b[0m in \u001b[0;36m<cell line: 1>\u001b[0;34m()\u001b[0m\n\u001b[0;32m----> 1\u001b[0;31m \u001b[0;32mfrom\u001b[0m \u001b[0mgoogle\u001b[0m\u001b[0;34m.\u001b[0m\u001b[0mcloud\u001b[0m \u001b[0;32mimport\u001b[0m \u001b[0mGoogleVectorStore\u001b[0m\u001b[0;34m\u001b[0m\u001b[0;34m\u001b[0m\u001b[0m\n\u001b[0m\u001b[1;32m      2\u001b[0m \u001b[0;34m\u001b[0m\u001b[0m\n\u001b[1;32m      3\u001b[0m \u001b[0;31m# Create a new store for housing your documents.\u001b[0m\u001b[0;34m\u001b[0m\u001b[0;34m\u001b[0m\u001b[0m\n\u001b[1;32m      4\u001b[0m \u001b[0mcorpus_store\u001b[0m \u001b[0;34m=\u001b[0m \u001b[0mGoogleVectorStore\u001b[0m\u001b[0;34m.\u001b[0m\u001b[0mcreate_corpus\u001b[0m\u001b[0;34m(\u001b[0m\u001b[0mdisplay_name\u001b[0m\u001b[0;34m=\u001b[0m\u001b[0;34m\"My Corpus\"\u001b[0m\u001b[0;34m)\u001b[0m\u001b[0;34m\u001b[0m\u001b[0;34m\u001b[0m\u001b[0m\n\u001b[1;32m      5\u001b[0m \u001b[0;34m\u001b[0m\u001b[0m\n",
            "\u001b[0;31mImportError\u001b[0m: cannot import name 'GoogleVectorStore' from 'google.cloud' (unknown location)",
            "",
            "\u001b[0;31m---------------------------------------------------------------------------\u001b[0;32m\nNOTE: If your import is failing due to a missing package, you can\nmanually install dependencies using either !pip or !apt.\n\nTo view examples of installing some common dependencies, click the\n\"Open Examples\" button below.\n\u001b[0;31m---------------------------------------------------------------------------\u001b[0m\n"
          ],
          "errorDetails": {
            "actions": [
              {
                "action": "open_url",
                "actionText": "Open Examples",
                "url": "/notebooks/snippets/importing_libraries.ipynb"
              }
            ]
          }
        }
      ]
    }
  ]
}