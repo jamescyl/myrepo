{
  "nbformat": 4,
  "nbformat_minor": 0,
  "metadata": {
    "colab": {
      "provenance": [],
      "gpuType": "T4",
      "mount_file_id": "https://github.com/jamescyl/myrepo/blob/main/Langchain.ipynb",
      "authorship_tag": "ABX9TyNrQ3wm/e+gee4rTvv4kssm",
      "include_colab_link": true
    },
    "kernelspec": {
      "name": "python3",
      "display_name": "Python 3"
    },
    "language_info": {
      "name": "python"
    },
    "accelerator": "GPU"
  },
  "cells": [
    {
      "cell_type": "markdown",
      "metadata": {
        "id": "view-in-github",
        "colab_type": "text"
      },
      "source": [
        "<a href=\"https://colab.research.google.com/github/jamescyl/myrepo/blob/main/Langchain.ipynb\" target=\"_parent\"><img src=\"https://colab.research.google.com/assets/colab-badge.svg\" alt=\"Open In Colab\"/></a>"
      ]
    },
    {
      "cell_type": "code",
      "source": [
        "!pip install streamlit\n",
        "!pip install langchain\n",
        "!pip install google-generativeai langchain-google-genai\n",
        "!pip install wikipedia"
      ],
      "metadata": {
        "id": "TOsnkxxv642V"
      },
      "execution_count": null,
      "outputs": []
    },
    {
      "cell_type": "code",
      "source": [
        "#Bring in deps\n",
        "import os\n",
        "import sys\n",
        "sys.path.append('/content/drive/MyDrive')\n",
        "from apikey import apikey\n",
        "\n",
        "os.environ['API_KEY'] = apikey\n",
        "GOOGLE_API_KEY = apikey\n",
        "\n"
      ],
      "metadata": {
        "id": "4pATGeMB0nr7"
      },
      "execution_count": null,
      "outputs": []
    },
    {
      "cell_type": "code",
      "source": [
        "\n",
        "#import streamlit as st\n",
        "from langchain_google_genai import ChatGoogleGenerativeAI\n",
        "from langchain.prompts import PromptTemplate\n",
        "from langchain.chains import LLMChain, SequentialChain\n",
        "from langchain.memory import ConversationBufferMemory\n",
        "from langchain.utilities import WikipediaAPIWrapper\n",
        "\n",
        "\n",
        "os.environ['API_KEY'] = apikey\n",
        "GOOGLE_API_KEY = apikey\n",
        "\n",
        "# App framework\n",
        "#st.title('YouTube GPT Creator')\n",
        "# Insert the streamlit run command\n",
        "#!streamlit run /usr/local/lib/python3.10/dist-packages/colab_kernel_launcher.py st_view.py\n",
        "#prompt = st.text_input('Plug in your prompt here')\n",
        "\n",
        "my_prompt = 'Wonderful world'\n",
        "\n",
        "# Prompt templates\n",
        "title_template = PromptTemplate(\n",
        "    input_variables = ['topic'],\n",
        "    template='write me a youtube video title about {topic}'\n",
        ")\n",
        "\n",
        "script_template = PromptTemplate(\n",
        "    input_variables = ['title', 'wikipedia_research'],\n",
        "    template='write me a youtube video script based on this title TITLE: {title} while leveraging this wikipedia reserch:{wikipedia_research} '\n",
        ")\n",
        "\n",
        "# Memory\n",
        "title_memory = ConversationBufferMemory(input_key='topic', memory_key='chat_history')\n",
        "script_memory = ConversationBufferMemory(input_key='title', memory_key='chat_history')\n",
        "\n",
        "# Llms\n",
        "llm = ChatGoogleGenerativeAI(model=\"gemini-pro\", google_api_key=GOOGLE_API_KEY)\n",
        "title_chain = LLMChain(llm=llm, prompt=title_template, verbose=True, output_key='title', memory=title_memory)\n",
        "script_chain = LLMChain(llm=llm, prompt=script_template, verbose=True, output_key='script', memory=script_memory)\n",
        "\n",
        "wiki = WikipediaAPIWrapper()\n",
        "\n",
        "# Show stuff to the screen if there's a prompt\n",
        "if my_prompt:\n",
        "    title = title_chain.run(my_prompt)\n",
        "    wiki_research = wiki.run(my_prompt)\n",
        "    script = script_chain.run(title=title, wikipedia_research=wiki_research)\n",
        "\n",
        "print(my_prompt)\n",
        "print(title_memory.buffer)\n",
        "print(script_memory.buffer)\n",
        "\n",
        "\"\"\"\n",
        "    st.write(title)\n",
        "    st.write(script)\n",
        "\n",
        "    with st.expander('Title History'):\n",
        "        st.info(title_memory.buffer)\n",
        "\n",
        "    with st.expander('Script History'):\n",
        "        st.info(script_memory.buffer)\n",
        "\n",
        "    with st.expander('Wikipedia Research'):\n",
        "        st.info(wiki_research)\n",
        "\"\"\"\n",
        "\n",
        "\n",
        "#llm = ChatGoogleGenerativeAI(model=\"gemini-pro\", google_api_key=GOOGLE_API_KEY)\n",
        "#tweet_prompt = PromptTemplate.from_template(\"You are a content creator. Write me a tweet about {topic}.\")\n",
        "#tweet_chain = LLMChain(llm=llm, prompt=tweet_prompt, verbose=True)\n",
        "#if __name__==\"__main__\":\n",
        "#    topic = \"what is streamlit?\"\n",
        "#    resp = tweet_chain.run(topic=topic)\n",
        "#    print(resp)"
      ],
      "metadata": {
        "id": "ShhGIOyk6W65"
      },
      "execution_count": null,
      "outputs": []
    },
    {
      "cell_type": "code",
      "source": [
        "from langchain_google_genai import ChatGoogleGenerativeAI\n",
        "from langchain_core.messages import HumanMessage, SystemMessage\n",
        "\n",
        "image_url = '/content/drive/MyDrive/SAM_0147.JPG'\n",
        "\n",
        "import matplotlib.pyplot as plt\n",
        "from PIL import Image\n",
        "\n",
        "# Load the image\n",
        "image = Image.open(image_url)\n",
        "\n",
        "# Display the image\n",
        "plt.imshow(image)\n",
        "plt.show()\n",
        "\n",
        "\n",
        "# Llms\n",
        "llm = ChatGoogleGenerativeAI(model=\"gemini-pro-vision\", google_api_key=GOOGLE_API_KEY)\n",
        "message = HumanMessage(\n",
        "    content = [\n",
        "        {\n",
        "            \"type\": \"text\",\n",
        "            \"text\": \"What's in this image?\",\n",
        "        }, # You can optionally provide text paths\n",
        "        {\"type\": \"image_url\",\"image_url\": image_url},\n",
        "    ]\n",
        ")\n",
        "llm.invoke([message])\n"
      ],
      "metadata": {
        "id": "m3Lypb-5vxyj"
      },
      "execution_count": null,
      "outputs": []
    },
    {
      "cell_type": "code",
      "source": [
        "from langchain_google_genai import GoogleGenerativeAIEmbeddings\n",
        "\n",
        "embeddings = GoogleGenerativeAIEmbeddings(model=\"models/embedding-001\", google_api_key=GOOGLE_API_KEY)\n",
        "embeddings.embed_query(\"hello, world!\")"
      ],
      "metadata": {
        "id": "-Fs1HztdOJmn"
      },
      "execution_count": null,
      "outputs": []
    },
    {
      "cell_type": "code",
      "source": [
        "!pip install google-cloud-core\n"
      ],
      "metadata": {
        "id": "KUNmup16WRCp"
      },
      "execution_count": null,
      "outputs": []
    },
    {
      "cell_type": "code",
      "source": [
        "import google.cloud\n",
        "\n",
        "# Create a client\n",
        "client = google.cloud.vectorstore.v1.VectorStoreServiceClient()\n",
        "\n",
        "# Set the project ID and region\n",
        "project_id = \"YOUR_PROJECT_ID\"\n",
        "region = \"YOUR_REGION\"  # e.g., \"us-central1\"\n",
        "\n",
        "# Set the Vector Store ID\n",
        "vector_store_id = \"YOUR_VECTOR_STORE_ID\"\n",
        "\n",
        "# Set the Vector Store spec\n",
        "spec = {\"dimensionality\": 512}\n",
        "\n",
        "# Create the Vector Store\n",
        "vector_store = client.create_vector_store(\n",
        "    parent=f\"projects/{project_id}/locations/{region}\",\n",
        "    vector_store_id=vector_store_id,\n",
        "    vector_store=spec,\n",
        ")\n",
        "\n",
        "# Print the Vector Store name\n",
        "print(f\"Vector Store created: {vector_store.name}\")\n"
      ],
      "metadata": {
        "id": "Za6oKXuuQRX6"
      },
      "execution_count": null,
      "outputs": []
    },
    {
      "cell_type": "code",
      "source": [
        "from google.cloud import GoogleVectorStore\n",
        "\n",
        "# Create a new store for housing your documents.\n",
        "corpus_store = GoogleVectorStore.create_corpus(display_name=\"My Corpus\")\n",
        "\n",
        "# Create a new document under the above corpus.\n",
        "document_store = GoogleVectorStore.create_document(\n",
        "    corpus_id=corpus_store.corpus_id, display_name=\"My Document\"\n",
        ")\n",
        "\n",
        "# Upload some texts to the document.\n",
        "text_splitter = CharacterTextSplitter(chunk_size=500, chunk_overlap=0)\n",
        "for file in DirectoryLoader(path=\"data/\").load():\n",
        "    documents = text_splitter.split_documents([file])\n",
        "    document_store.add_documents(documents)\n",
        "\n",
        "# Talk to your entire corpus with possibly many documents.\n",
        "aqa = corpus_store.as_aqa()\n",
        "answer = aqa.invoke(\"What is the meaning of life?\")\n",
        "\n",
        "# Read the response along with the attributed passages and answerability.\n",
        "print(response.answer)\n",
        "print(response.attributed_passages)\n",
        "print(response.answerable_probability)"
      ],
      "metadata": {
        "id": "RIn7Ntq0PAMC"
      },
      "execution_count": null,
      "outputs": []
    },
    {
      "cell_type": "code",
      "source": [
        "# Colab already has Gemini libraries installed\n",
        "# Reference: https://ai.google.dev/tutorials/python_quickstart?hl=en\n",
        "# !pip install -q -U google-generativeai\n",
        "!pip install chromadb\n",
        "!pip install sentence-transformers # For converting text to vector embeddings\n"
      ],
      "metadata": {
        "id": "7P6pn-USJvo2"
      },
      "execution_count": null,
      "outputs": []
    },
    {
      "cell_type": "code",
      "source": [
        "!pip install langchain\n",
        "!pip install PyPDF2"
      ],
      "metadata": {
        "id": "z062Qd1aTdyv"
      },
      "execution_count": null,
      "outputs": []
    },
    {
      "cell_type": "code",
      "source": [
        "!pip install pypdf"
      ],
      "metadata": {
        "id": "BaF6nfP9nreQ"
      },
      "execution_count": null,
      "outputs": []
    },
    {
      "cell_type": "code",
      "source": [
        "# Gemini API\n",
        "import google.generativeai as genai\n",
        "\n",
        "# ChromaDB\n",
        "import chromadb\n",
        "from chromadb.utils import embedding_functions\n",
        "\n",
        "from PyPDF2 import PdfReader\n",
        "from langchain.text_splitter import CharacterTextSplitter\n",
        "\n",
        "from langchain.document_loaders import DirectoryLoader\n",
        "\n",
        "from google.colab import userdata\n",
        "GEMINI_API_KEY = userdata.get('GEMINI_API_KEY')"
      ],
      "metadata": {
        "id": "OrppNu4UBTnJ"
      },
      "execution_count": 5,
      "outputs": []
    },
    {
      "cell_type": "code",
      "source": [
        "from langchain.document_loaders import PyPDFLoader\n",
        "\n",
        "loader = PyPDFLoader(\"/content/drive/MyDrive/Colab Notebooks/Pdfs/PingAn_D0179829.pdf\")\n",
        "pages = loader.load_and_split()\n",
        "\n",
        "text_splitter = CharacterTextSplitter(\n",
        "        separator=\"\\n\",\n",
        "        chunk_size=1000,\n",
        "        chunk_overlap=200,\n",
        "        length_function=len\n",
        "    )\n",
        "\n",
        "for page in pages:\n",
        "    text = page.page_content\n",
        "    chunks = text_splitter.split_text(text)\n",
        "    print(chunks)\n",
        "\n"
      ],
      "metadata": {
        "id": "z8gy62YhFfwS",
        "outputId": "612f8cec-ad62-4ec6-af35-133a2b8b1e2e",
        "colab": {
          "base_uri": "https://localhost:8080/"
        }
      },
      "execution_count": 15,
      "outputs": [
        {
          "output_type": "stream",
          "name": "stdout",
          "text": [
            "['CONFIDENTIALMotor Vehicle Cover Note\\nTime of Issue\\nEffective Date\\nPremium\\nTypeSaturday 22nd October 2022 17:51 ( Hong Kong Time )\\nFriday 16th December 2022 00:01\\nHK$ 1,732\\nThird Party OnlyCover Note No.\\nD0179829\\nThis cover note is valid for the vehicle which registered as private car and not for commercial use.\\x03\\nCHANG YIU LING  having proposed for insurance in respect of the Motor Vehicle described in the Schedule below and having paid the sum of HK$\\n1,732 the risk is hereby held covered in terms of the Company’s usual form of Third Party Only  Policy applicable thereto for a period of 60\\ndays that is to say from Friday 16th December 2022 00:01  (or the date and time generated this cover note,whichever later) on the above date to\\nthe same time on the sixtieth day after such date unless cover be terminated by the Company by notice in writing in which case the insurance will', 'the same time on the sixtieth day after such date unless cover be terminated by the Company by notice in writing in which case the insurance will\\nthereupon cease and a proportionate part of the annual premium otherwise payable for such insurance will be charged for the time that the Company has\\nbeen on risk.\\nSCHEDULE\\nCoverage Details\\n     Operative Insurance Third Party Only\\n     *Sum Insured (HKD) N / A\\nParticulars of Vehicle & Drivers\\n     Registration Mark SK4379\\n     Make and Model Mazda Biante\\n     Model Details BIANTE GRANZ EDITION\\n     Type of Body Station Waggon\\n     Engine Number PE30599387\\n     Chassis Number JM6CC1071E0103531\\n     Cylinder Capacity 1998 cc\\n     Year of Manufacture 2013\\n     No Claims Discount 60%\\n     Named Driver One CHANG YIU LING\\n     Named Driver Two N / A\\n     Named Driver Three N / AExcesses\\nApplicable to Section (I) Insurance\\n1.General Excess - 8(a) N/A\\n2.Theft Loss Excess - 8(c) N/A\\n3.Young Driver Excess - Paragraph 8(b)(ii) N/A', 'Named Driver Three N / AExcesses\\nApplicable to Section (I) Insurance\\n1.General Excess - 8(a) N/A\\n2.Theft Loss Excess - 8(c) N/A\\n3.Young Driver Excess - Paragraph 8(b)(ii) N/A\\n4.Inexperienced Driver Excess - Paragraph 8(b)(iii) N/A\\n5.Unnamed Driver Excess - Paragraph 8(b)(i) N/A\\n6.Parking Damage Excess - Paragraph 8(b)(iv) N/A\\nApplicable to Section (II) Insurance\\n1.Third Party Property Damage Excess # HK$ 7,000\\n2.Young Driver TPPD* Excess HK$ 20,000\\n3.Inexperienced Driver TPPD* Excess HK$ 20,000\\n4.Unnamed Driver TPPD* Excess HK$ 10,500\\n* TPPD = Third Party Property Damage\\n# For any named driver between the age of 25-30, the Schedule of Third\\nParty Property Damage for Excess will be adjusted to minimum\\nHK$7,500 (Compared with the original excess amount, whichever\\nhigher)\\nHire Purchaser\\nN/A\\nMotor Vehicle Insurance (Third Party Risks) Ordinance\\nCertificate of Insurance\\nI hereby certify that this covering note is issued in accordance with the provisions of the abovementioned Ordinance.', 'N/A\\nMotor Vehicle Insurance (Third Party Risks) Ordinance\\nCertificate of Insurance\\nI hereby certify that this covering note is issued in accordance with the provisions of the abovementioned Ordinance.\\nAuthorized Insurer\\nCHINA PING AN INSURANCE (HONG KONG) COMPANY LIMITED\\nFor Manager \\t\\t\\t                                  Date: 22nd October 2022\\nRecord: 47a9b0cd8d3f9343bd3167d1b27a00f9 / Account: #0011D\\nCOVER NOTE NO.: D0179829\\nWindscreen Protect : Yes (MDT)Plan: 24 Hours Roadside Assistance Package']\n",
            "['CONFIDENTIAL網上投保資料及聲明\\n此文件相關暫保單編號:D0179829\\n重要事項\\n此文件於香港時間 Saturday 22nd October 2022 17:51 發出，並應視為上述暫保單及將來正式保單的其中一部份。\\n以下資料為投保人在網上投保時確認為真實無誤，並清楚明白以下資料將構成所投保保單的重要部份。\\n如對下述任何資料有任何修正，請在此附件發出日期計10天內致電本公司(電話：28271883)提出。必須留意任何失實陳述資料或修正將可能導致追加保費及條\\n款，或拒保，或取消保單。本公司保留追收保費及／或有權取消保單之權利，並有可能就取消保單收取手續費最低為HK$618。\\n投保人申請時同意及確認符合以下條款\\n1) 投保人必須為車主及首名記名司機；\\n2) 所有記名司機年齡介乎25歲至69歲及駕駛年資為2年或以上(如投保車輛為電動車，其駕駛年資當中須包括1年或以上駕駛電動車經驗)，並持有有效駕駛執照\\n及交通違例扣分(如超速)不多於9分；\\n3) 所有記名司機最近3年出現不多於2次索償，所有索償不涉及人命傷亡及總索償額不多於港幣60,000元；\\n4) 投保人及所有記名司機過去3年內未曾涉及危險駕駛、醉酒駕駛、濫藥駕駛或被罰停牌；\\n5) 投保人及所有記名司機過去3年內未曾被任何保險公司拒絕續保、取消或附加額外條款；\\n6) 投保之車輛不可作任何商業用途或出租；投保人之汽車保險於未來3個月內到期；\\n7) 投保人同意及確認不會把投保車輛借予未滿25歲及/或少於2年駕駛年資之人士使用；\\n8) 本保險只適合應用於在香港行駛之私家車(車輛登記類別必須為私家車，恕不接受其他類別)，及只保障香港境內發生之交通意外風險；\\n9) 請小心填寫投保資料，特別是無索償折扣(NCD)，如與事實不符，本公司有權追加保費或取消保單，或會影響索償；\\n10) 本公司恕不接受複製NCD (如本公司未能成功核實無索償折扣,本公司將收回保費差額)；\\n以上條款或時有更改，本公司有權不作通知。\\n投保人資料\\n記名司機一 記名司機二 記名司機三 記名司機四\\n     英文姓名 CHANG YIU LING N/A N/A N/A\\n     香港身份證號碼 G 580814 (5) N/A N/A N/A\\n     出生日期(日/月/年) 02 / 01 / 1966 N/A N/A N/A', '以上條款或時有更改，本公司有權不作通知。\\n投保人資料\\n記名司機一 記名司機二 記名司機三 記名司機四\\n     英文姓名 CHANG YIU LING N/A N/A N/A\\n     香港身份證號碼 G 580814 (5) N/A N/A N/A\\n     出生日期(日/月/年) 02 / 01 / 1966 N/A N/A N/A\\n     駕駛經驗(年) 23 年 N/A N/A N/A\\n     職位 經理/主管 N/A N/A N/A\\n     行業 電腦及資訊科技 N/A N/A N/A\\n     關係 (本人) N/A N/A N/A\\n本人(等)向中國平安保險(香港)有限公司投保所述汽車時在網站確認的聲明如下:\\n  1. 必須留意任何失實陳述資料或修正將可能導致追加保費及條款，或拒保，或取消保單。本公司保留追收保費及／或有權取消保單之權利，\\n      並有可能就取消保單收取手續費最低為HK$618；\\n  2. 本人(等)符合中國平安保險(香港)有限公司汽車保險產品的一切投保資格或條件；\\n  3. 投保汽車性能良好, 除所登記的貸款公司(如有)之外，本人(等)是該車輛的唯一全權車主, 無第三方擁有該車輛的任何權益;\\n  4. 投保車輛將不會給予非持有有效駕駛執照之人士駕駛;\\n  5. 在本網站投保過程中所述的各項資料全屬正確無誤, 本人(等)並無隱瞞事實或虛構;\\n  6. 本人(等)為投保人及整個投保過程由本人(等)親自或授權有關人士輸入投保資料及問題之答案;\\n  7. 本人(等)同意在本網站投保過程中所述的各項資料, 問題之答案以及此聲明將作為本人(等)與中國平安保險(香港)有限公司訂立契約之根據;\\n  8. 本人(等)同意接受中國平安保險(香港)有限公司所發給慣用之汽車保險單;\\n  9. 本人(等)同意及接受中國平安保險(香港)有限公司之汽車保險保單條款及不受保障範圍。\\n10. 臨時保險單(暫保單)一經發出, 如需取消, 中國平安保險(香港)有限公司有權收取行政費HK$618或20%所繳保費, 以較高者為準;\\n11. 本人(等)同意一切由中國平安保險(香港)有限公司在此投保過程或以其他方式獲取而所收集或持有本人(等)的個人資料均由本人(等)提供，', '9. 本人(等)同意及接受中國平安保險(香港)有限公司之汽車保險保單條款及不受保障範圍。\\n10. 臨時保險單(暫保單)一經發出, 如需取消, 中國平安保險(香港)有限公司有權收取行政費HK$618或20%所繳保費, 以較高者為準;\\n11. 本人(等)同意一切由中國平安保險(香港)有限公司在此投保過程或以其他方式獲取而所收集或持有本人(等)的個人資料均由本人(等)提供，\\n      並可由中國平安保險(香港)有限公司持有、使用及披露作其保險及金融服務業務上所需, 並可能轉予任何個人、中國平安保險(香港)有限公司關連\\n      公司、其他組織、其他獨立第三者及其他服務提供者(i)能夠處理本人(等)此投保申請及提供與此投保申請有關之後續服務或其他產品及服務，\\n      及/或(ii)作直銷用途, 及/或 (iii)用作資料配對, 及/或 (iv) 數據分析及市場研究, 及/或 (v) 就任何事宜與本人(等)聯絡;\\n12. 本人(等)同意及接受如本人(等)所提供的資料不正確或失效, 中國平安保險(香港)有限公司有絕對決定權於任何時間取消此投保申請之保單及\\n      決定最後退保金額;\\n13. 如中國平安保險(香港)有限公司取消本人(等)此投保之保單, 本人(等)同意中國平安保險(香港)有限公司以本人(等)於此投保過程所提供的聯絡\\n      地址或聯絡電郵地址通知保單取消事宜;如本人(等)沒有正確地收到該份郵件/電郵或因沒有去檢查郵件/電郵而招致任何損失,中國平安保險(香港)有限公司\\n      在能夠證明已發出沒有被退回之通知紀錄的情況下,不會就閣下任何損失負責.']\n",
            "['CONFIDENTIALMotor Extra Benefit - 24 Hours Roadside Assistance Package\\nThe Motor Extra Benefit is applicable to Policyholders who have selected the Motor Extra Benefit option.\\n    Should the Insured wishes to use the services in the Motor Extra Benefit - 24 Hours Roadside Assistance Package, the Insured may directly make a call to\\n    the 24-hour hotline on 2861-9282.\\n     a) 24-hour Emergency Roadside Assistance\\n          In any event should the Motor Car be immobilized on the road due to an Accident or Mechanical Breakdown to the Insured per assistance for the following\\n          emergency roadside assistance service,\\n               (i) Flat battery jump starting.\\n               (ii) Spare tyre change.\\n          In the event of adverse weather conditions, the Company reserves the right to suspend the services provided under this section.\\n          The maximum liability of the Company under this section is HKD 2,000 for each and every assistance case.', 'The maximum liability of the Company under this section is HKD 2,000 for each and every assistance case.\\n     b) 24-hour towing of the Vehicle\\n          If the Motor Car is immobilized and is beyond repair at the roadside due to an Accident or Mechanical Breakdown, the Company will arrange for the following\\n          emergency roadside assistance service, and the Motor Car to be towed to the nearest repairer or to a place nominated by the Insured or his authorized driver\\n          in the Hong Kong Special Administrative Region.\\n               (i) Regular Towing\\n               (ii) Flat-Bed Towing\\n          The Insured shall bear the costs of the towing services if the Insured requests the Company to tow the Motor Car to more than one location for the same\\n          Accident or Mechanical Breakdown.\\n          In the event of adverse weather conditions, the Company reserves the right to suspend the services provided under this section.', 'Accident or Mechanical Breakdown.\\n          In the event of adverse weather conditions, the Company reserves the right to suspend the services provided under this section.\\n          The maximum liability of the Company under this section is HKD 2,000 for each and every assistance case.\\n     c) Temporary Alternate Vehicle\\n          In the event the Motor Car is\\n               (i) Immobilized due to an accident which requires a repair after forty-eight hours from the accident; or\\n               (ii) Discovered stolen and is not found within forty-eight hours after such discovery,\\n          The Company shall arrange and pay for the supply of an alternate vehicle of similar make and model through an independent car rental contractor nominated\\n          by the Company provided that:\\n               - The make and model of the alternate vehicle is at the discretion of the Company and may not be identical to the Motor Car;', 'by the Company provided that:\\n               - The make and model of the alternate vehicle is at the discretion of the Company and may not be identical to the Motor Car;\\n               - The Company is not responsible for the delivery of the alternate vehicle to the Insured or to the Insured’s authorized representative;\\n               - Only the Insured or the Named Driver(s) specified in the Policy Schedule can be registered as the driver of the alternate vehicle;\\n               - In the event of the Motor Car being stolen, the Police Statement confirming the date and time of loss shall be produced.\\n               - The Insured shall upon claiming for this benefit complies with the terms and conditions of the car rental company.\\n          The maximum liability of the Company under this section is HKD 5,000 where the Company shall only be liable for the actual rental costs with a daily limit', 'The maximum liability of the Company under this section is HKD 5,000 where the Company shall only be liable for the actual rental costs with a daily limit\\n          not exceeding HKD 1,000 for each and every assistance case. All other car rental costs are the responsibility of the Insured.\\n          The Insured is responsible for 20% of the car rental costs.\\n          The benefit under this section will terminate whenever the repair of the Motor Car is duly completed or the stolen Motor Car recovered in normal condition\\n          and handed over to the Insured.\\n     d) General Exclusions to the Motor Extra Benefit (D)\\n               (i) Motor Car modified for racing trials, or rallying or participating in such activities.\\n               (ii) Any person who drives the Motor Car without a valid license issued by a competent authority.']\n",
            "['(ii) Any person who drives the Motor Car without a valid license issued by a competent authority.\\n               (iii) Provision of services including:\\n                        a). 24-hour Emergency Roadside Assistance;\\n                        b). 24-hour towing of the Vehicle;\\n                        in the absence of the Insured or his representative on the spot.\\n               (iv) Any expenses incurred without the Company’s prior approval or intervention.']\n",
            "['CONFIDENTIALExtra Benefits\\nWindscreen Excess Waiver Benefit\\nIn respect of isolated damage of the front windscreen only of the vehicle where the repair cost thereof does not exceed HK$3,000 the Company will pay for the costs of repair or\\nreplacement of the front windscreen in waiving of any policy excess provided that the repair or replacement is done by a motor vehicle “Windscreeen” repairer designated by\\nthe Company specified herein below:\\nDesignated Motor Vehicle \"Windscreen\" Repairers:\\nRepairer:                      Japan Automobile Glass Co., Ltd.\\nTelephone No:             2715 7217 / 2715 6418 / 2807 2193\\nAddress:                      1) G/F., 28-34 Mok Cheong Street, To Kwa Wan, Kowloon.\\n                                    2) G/F., 6 Mok Cheong Street, To Kwa Wan, Kowloon.\\n                                    3) G/F., 2M Maple Street, Sham Shui Po, Kowloon.\\n                                    4) G/F., 128 Tung Lo Wan Road, Causeway Bay, Hong Kong.', '3) G/F., 2M Maple Street, Sham Shui Po, Kowloon.\\n                                    4) G/F., 128 Tung Lo Wan Road, Causeway Bay, Hong Kong.\\n                                    5) Shop A&B, G/F., 110 Sha Tsui Road, Tsuen Wan, N.T.\\n                                    6) G/F., Shop 1, Mee Shing Building, 3-11 Sui On Street, Tai Po, N.T.\\n                                    7) G/F., 43 Kin Tak Street, Yuen Long, N.T.\\nWebsite:                      www.japanautoglass.hk日本汽車玻璃有限公司\\n九龍土瓜灣木廠街28-34號地下\\n九龍土瓜灣木廠街6號地下\\n九龍深水埗楓樹街2M舖地下\\n香港銅鑼灣銅鑼灣道128號地下\\n新界荃灣沙咀道110號地下\\n新界大埔瑞安街3-11號美盛大廈地下1號舖\\n新界元朗建德街43號地下\\nRepairer:                      Xinyi Automobile Glass Co., Ltd.\\nTelephone No:             2711 3998 / 2443 9488\\nAddress:                      1) Unit A1, G/F., Reality Tower, 4 Sun On Street, Chai Wan (enter from Fung Yip Street) \\n                                    2) G/F., No. 18-20, Mok Cheong Street, To Kwa Wan, Kowloon.', '2) G/F., No. 18-20, Mok Cheong Street, To Kwa Wan, Kowloon. \\n                                    3) G/F., No. 176, Sha Tsui Road, Tsuen Wan, New Territories.\\n                                    4) DD109 Lot 466(4), Tai Ma Road, Kam Tin, Yuen Long, New Territories.\\nWebsite:                      www.xyglass.com.hk信義汽車玻璃有限公司\\n柴灣新安街4號冠榮中心地下A1舖\\n九龍土瓜灣木廠街18-20號地舖\\n新界荃灣沙咀道176號地舖\\n新界元朗錦田大馬路第109約466(4)地段\\nRepairer:                      Kung Sing Automotives Services Limited\\nTelephone No:             5313 0825\\nAddress:                      1) Shop 1, G/F., No. 15 Shun Ning Road, Sham Shui Po, Kowloon. \\n                                    2) No. 72 Jockey Club Road, Sheung Shui, New Territories.貫昇汽車服務有限公司\\n深水埗順寧道15號地下1號舖\\n上水馬會道72號(近馬會診所)\\nRepairer:                      Hip On Auto Glass Co Ltd.\\nTelephone No:             2362 3272 / 2333 1282\\nAddress:                      G/F., 21-27 Fung Yi Street, To Kwa Wan, Kowloon.', '上水馬會道72號(近馬會診所)\\nRepairer:                      Hip On Auto Glass Co Ltd.\\nTelephone No:             2362 3272 / 2333 1282\\nAddress:                      G/F., 21-27 Fung Yi Street, To Kwa Wan, Kowloon. \\nWebsite:                      www.hipon.hk協安汽車玻璃有限公司\\n九龍土瓜灣鳳儀街21-27號地下\\nThis benefit is entitled for one time only during each of the period of insurance unless prior consent from the Company. No premium refund for the motor policy with the\\nCompany once this benefit is consumed.\\n\\t\\t\\nIt is further agreed that any claim made under this benefit will not be, for the purpose of applying No Claims Discount protector, taken into account in the calculation of total\\nclaims incurred in any one period of insurance. \\n\\t\\t\\nThe Company will disclose your NCD status as without any NCD protection benefit if any other insurance companies ask for information of your NCD Status.']\n",
            "['私隱政策及收集個人資料聲明(「本聲明」)\\n中國平安保險(香港)有限公司（下稱 “本公司” ) 明白其就《個人資料（私隱）條例》（香港法例第 486 章） （“條例”）收集、持有、處理、使用和／或轉移個人資料所負有的責任。\\n本公司僅將為合法和相關的目的收集個人資料，並將採取一切切實可行的步驟，確保本公司所持個人資料的準確性。本公司將採取一切可行的步驟，確保個人資料的安全性，及避免發生未經授權或意\\n外而擅自取得、刪除或另行使用個人資料 的情況。\\n\\t\\t\\t\\t\\n敬請注意，如果閣下不向本公司提供閣下的個人資料，我們可能無法提供閣下所需的資料、產品或服務, 或無法處理閣下的要求。\\n1. 個人資料收集目的\\n     本公司不時有必要收集閣下的個人資料, 並可能就下列各項目的有關目的(目的)而供本公司使用、存儲、轉移、披露或共享該等個人資料:\\n     (i)    向閣下推介、提供和營銷本公司、平安集團的其他公司（ “平安關聯方”）或本公司的商業合作夥伴之產品/服務，以及提供、維持、管理和操作該等產品/服務；\\n     (ii)   處理和評估閣下就本公司及平安關聯方所提供之產品/服務提出的任何申請或要求；\\n     (iii)  向閣下提供後續服務，包括但不限於處理保單、 管理已發出的保單、要求增加、更改或刪除保障項目或受保成員，訂立直接付款安排及保單取消、更新或復效申請；\\n     (iv)   與就本公司和或平安關聯方提供的任何產品/服務而由閣下或針對閣下提出的或者其他涉及閣下的任何索賠相關的任何目的，包括索賠調查、處理、判定保險索償\\n            及就索償抗辯；\\n     (v)    偵測和防止欺詐行為（無論是否與就由本公司及或平安關聯方提供的產品/服務有關）；\\n     (vi)   為客戶設計產品/服務；\\n     (vii)  為統計或其他目的進行市場研究；\\n     (viii) 不時就本條款所列的任何目的核對所持有的與閣下有關的任何資料；\\n     (ix)   作出任何適用法律、規則、規例、實務守則或指引所要求的披露或協助在香港或香港以外其他地方的警方或其他政府或監管機構執法及進行調查；\\n     (x)    進行身份和或信用核查和/或債務追收；\\n     (xi)   遵守任何適用的司法管轄區的法律；', '(viii) 不時就本條款所列的任何目的核對所持有的與閣下有關的任何資料；\\n     (ix)   作出任何適用法律、規則、規例、實務守則或指引所要求的披露或協助在香港或香港以外其他地方的警方或其他政府或監管機構執法及進行調查；\\n     (x)    進行身份和或信用核查和/或債務追收；\\n     (xi)   遵守任何適用的司法管轄區的法律；\\n     (xii)  開展與本公司業務經營有關的其他服務；及\\n     (xiii) 與上述任何目的直接有關的其他目的。\\n2. 個人資料的轉移\\n     存於本公司的個人資料會保密，但本公司可能會向以下各方透露該等資料作本聲明上述所列出的用途:\\t \\n\\t \\n     (i)    位於香港或香港以外其他地方的任何平安關聯方、本公司的任何相關聯人士、任何再保險公司、索賠調查公司、閣下之保險經紀、行業協會或聯會或金融機構，以及就此\\n            方面而言， 閣下同意將閣下的資料轉移至香港境外；\\n     (ii)   與就本公司和/或平安關聯方提供的任何產品/服務而由閣下或針對閣下提出的或者其他涉及閣下的任何索賠相關的任何人士（包括私家偵探）；\\n     (iii)  在香港或香港以外其他地方向本公司和/或平安關聯方提供行政，技術或其他服務（包括直接促銷服務）並對個人資料負有保密義務的任何代理、承包商或第三方；\\n     (iv)  信貸資料機構或（在出現拖欠還款的情況下）追討欠款公司；\\n     (v)   本公司權利或業務的任何實際或建議的承讓人、受讓方、參與者或次參與者；\\n     (vi)  在香港或香港以外其他地方的任何政府部門或其他適當的政府或監管機關；及\\n     (vii) 在有合理需要履行任何上述有關目的之情況下， 以下人士： 查磡及定損員、代理和經紀、僱主、醫護專業人士、醫院、會計師、財務顧問、律師、整合保險業申訴和\\n           承保資料的組織、防欺詐組織、其他保險公司（無論是直接地，或是通過防欺詐組織或本段中指名的其他人士）、警察、和保險業就現有資料而對所提供的資料作出分\\n           析和檢查的數據庫或登記冊（及其運營者）。\\n     閣下的個人資料將僅為上文中規定的個人或多個有關目的而被轉移。該等資料可能被轉移至香港境外。', '承保資料的組織、防欺詐組織、其他保險公司（無論是直接地，或是通過防欺詐組織或本段中指名的其他人士）、警察、和保險業就現有資料而對所提供的資料作出分\\n           析和檢查的數據庫或登記冊（及其運營者）。\\n     閣下的個人資料將僅為上文中規定的個人或多個有關目的而被轉移。該等資料可能被轉移至香港境外。\\n\\t \\n     如欲了解本公司為促銷目的使用閣下的個人資料的政策，請參閱下文 “在直接促銷中使用及將其個人資料提供予其他人士＂部份。\\n     \\n     閣下到訪本網站時，網站會作紀錄，以分析網站的訪客人數及一般使用狀況，而當中部份資料將透過「Cookies」方式收集。Cookies是載有小量資料的檔案，自動儲存於訪\\n     客所用電腦內安裝的互聯網瀏覽器，可供本網站日後檢索。Cookies有助加強網站用途，透過儲存閣下對網站個別版面的喜好，以便我們為閣下營造更理想的線上體驗。\\n     Cookies收集的是不記名的集體統計資料，並不包括姓名或地址或能讓他人透過電話、電郵或任何其他途徑聯絡閣下的資料。大部分瀏覽器版本均預設啟動Cookies的功能，\\n     如閣下欲關閉Cookies或於使用Cookies的功能前獲得通知，可更改瀏覽器的設定，但更改後閣下未必能進入本網站的所有版面。\\n\\t \\t \\n3. 在直接促銷中使用個人資料\\n     本公司有意：\\n     (i)    使用本公司不時持有的閣下的姓名、聯絡資料、產品及服務的組合資料、交易模式及行為、財政背景及人口統計數據以進行直接促銷；\\n     (ii)   就本公司，平安關聯方，本公司合作品牌夥伴及商業合作夥伴可能提供關於下列類別的服務及產品而進行直接促銷（包括但不限於提供獎賞、客戶或會員或優惠計劃）：\\n            a. 保險、銀行、公積金或公積金計劃、金融服務、證券和相關產品及服務；\\n            b. 健康、保健及醫療、餐飲、體育運動及會員服務、娛樂、健身浴或類似的休閒活動、旅遊及交通、家居、服裝、教育、社交網絡、媒體的汽車有關服務；\\n     (iii)  以上服務及產品將會由本公司及或以下機構提供：\\n            a. 任何平安關聯方；\\n            b. 第三方金融機構；', 'b. 健康、保健及醫療、餐飲、體育運動及會員服務、娛樂、健身浴或類似的休閒活動、旅遊及交通、家居、服裝、教育、社交網絡、媒體的汽車有關服務；\\n     (iii)  以上服務及產品將會由本公司及或以下機構提供：\\n            a. 任何平安關聯方；\\n            b. 第三方金融機構；\\n            c. 本公司或平安關聯方的商業合作夥伴或合作品牌夥伴；\\n            d. 向本公司或任何以上所列機構提供支援的第三方獎賞、客戶或會員或優惠計劃提供者；\\t \\n     (iv)  除由本公司促銷上述服務及產品外，本公司亦有意將上文(i) 所述的資料提供予上文 (iii) 段部份所述的全部或任何人士，以供該等人士在促銷該等服務及產品中使用，\\n            而本公司為此目的須獲得客戶書面同意（包括表示不反對）。\\n\\t \\n     在使用閣下的個人資料作上述所述的目的或提供予上文所述的人士之前, 本公司須得到閣下的同意, 及只在獲得閣下的同意後方可使用閣下的個人資料及提供予其他人士作任\\n     何推廣及促銷用途。\\n     閣下日後可撤回閣下的同意, 請發信至下文 “個人資料的查閱及更正權利” 部份所列的地址通知本公司。\\n(4) 個人資料的查閱及更正權利\\n     根據條例規定，閣下有權查詢本公司是否持有閣下的個人資料及要求索取該等資料的複本（查閱資料要求），並要求本公司就不準確的資料作出更正。閣下如欲行使有關權利，\\n     請以書面形式經以下聯絡方法向本公司的個人資料保障主任提出：\\n     中國平安保險(香港)有限公司\\n     個人資料私隱主任\\n     香港九龍觀塘海濱道123號\\n     綠景NEO 19樓1901A室\\n     傳真： 2802 0018\\n     根據條例，本公司有權就辦理任何查閱資料要求收取合理費用。\\t \\n     本公司保留修改本聲明的權利而不另行通知。\\n     本聲明的中英文版本如有任何歧異或不一致，一概以英文版本為準。\\n     英文版本可於本公司網頁瀏覽 http://www.pingan.com.hk/about/privacy/lang/en。\\n更新於2022年6月13日\\nPowered by TCPDF (www.tcpdf.org)']\n"
          ]
        }
      ]
    },
    {
      "cell_type": "code",
      "source": [
        "genai.configure(api_key=GEMINI_API_KEY)\n",
        "genai_model = genai.GenerativeModel('gemini-pro')\n",
        "\n",
        "# Load vector database, or create new on first run\n",
        "chroma_client = chromadb.PersistentClient(path='/content/drive/MyDrive/Colab Notebooks/PdfDB/db')\n",
        "\n",
        "# Select the embedding model to use.\n",
        "# List of model names can be found here https://www.sbert.net/docs/pretrained_models.html\n",
        "sentence_transformer_ef = embedding_functions.SentenceTransformerEmbeddingFunction(model_name=\"all-mpnet-base-v2\")\n",
        "\n",
        "# Load collection, or create new on first run. Specify the model that we want to use to do the embedding.\n",
        "chroma_collection = chroma_client.get_or_create_collection(name='PdfDB', embedding_function=sentence_transformer_ef)\n",
        "\n",
        "\n",
        "def get_pdf_text(pdf_docs):\n",
        "    text = \"\"\n",
        "    for pdf in pdf_docs:\n",
        "        pdf_reader = PdfReader(pdf)\n",
        "        for page in pdf_reader.pages:\n",
        "            text += page.extract_text()\n",
        "    return text\n",
        "\n",
        "\n",
        "def get_text_chunks(text):\n",
        "    text_splitter = CharacterTextSplitter(\n",
        "        separator=\"\\n\",\n",
        "        chunk_size=1000,\n",
        "        chunk_overlap=200,\n",
        "        length_function=len\n",
        "    )\n",
        "    chunks = text_splitter.split_text(text)\n",
        "    return chunks\n",
        "\n",
        "def main():\n",
        "    for file in DirectoryLoader(path=\"/content/drive/MyDrive/Colab Notebooks/Pdfs/\").load():\n",
        "        #get pdf text\n",
        "        raw_text = get_pdf_text([file])\n",
        "        #get text chunks\n",
        "        text_chunks = get_text_chunks(raw_text)\n",
        "\n",
        "main()\n",
        "# Upload some texts to the document.\n",
        "#text_splitter = CharacterTextSplitter(chunk_size=500, chunk_overlap=0)\n",
        "#for file in DirectoryLoader(path=\"/content/drive/MyDrive/Colab Notebooks/Pdfs/\").load():\n",
        "#    documents = text_splitter.split_documents([file])\n",
        "#    document_store.add_documents(documents)"
      ],
      "metadata": {
        "id": "MhnCGP7gl82b"
      },
      "execution_count": null,
      "outputs": []
    }
  ]
}