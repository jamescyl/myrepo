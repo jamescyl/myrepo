{
  "cells": [
    {
      "cell_type": "markdown",
      "metadata": {
        "id": "view-in-github",
        "colab_type": "text"
      },
      "source": [
        "<a href=\"https://colab.research.google.com/github/jamescyl/myrepo/blob/main/YT_Modified_Camel_Langchain_Template.ipynb\" target=\"_parent\"><img src=\"https://colab.research.google.com/assets/colab-badge.svg\" alt=\"Open In Colab\"/></a>"
      ]
    },
    {
      "cell_type": "code",
      "execution_count": null,
      "metadata": {
        "colab": {
          "base_uri": "https://localhost:8080/"
        },
        "id": "RRYSu48huSUW",
        "outputId": "73f81595-49b1-494d-f524-ca8bd7e8f941"
      },
      "outputs": [
        {
          "output_type": "stream",
          "name": "stdout",
          "text": [
            "\u001b[2K     \u001b[90m━━━━━━━━━━━━━━━━━━━━━━━━━━━━━━━━━━━━━━━━\u001b[0m \u001b[32m817.7/817.7 kB\u001b[0m \u001b[31m8.1 MB/s\u001b[0m eta \u001b[36m0:00:00\u001b[0m\n",
            "\u001b[2K     \u001b[90m━━━━━━━━━━━━━━━━━━━━━━━━━━━━━━━━━━━━━━━━\u001b[0m \u001b[32m1.9/1.9 MB\u001b[0m \u001b[31m20.7 MB/s\u001b[0m eta \u001b[36m0:00:00\u001b[0m\n",
            "\u001b[2K     \u001b[90m━━━━━━━━━━━━━━━━━━━━━━━━━━━━━━━━━━━━━━━━\u001b[0m \u001b[32m290.2/290.2 kB\u001b[0m \u001b[31m16.5 MB/s\u001b[0m eta \u001b[36m0:00:00\u001b[0m\n",
            "\u001b[2K     \u001b[90m━━━━━━━━━━━━━━━━━━━━━━━━━━━━━━━━━━━━━━━━\u001b[0m \u001b[32m113.7/113.7 kB\u001b[0m \u001b[31m11.1 MB/s\u001b[0m eta \u001b[36m0:00:00\u001b[0m\n",
            "\u001b[2K     \u001b[90m━━━━━━━━━━━━━━━━━━━━━━━━━━━━━━━━━━━━━━━━\u001b[0m \u001b[32m49.4/49.4 kB\u001b[0m \u001b[31m5.3 MB/s\u001b[0m eta \u001b[36m0:00:00\u001b[0m\n",
            "\u001b[2K     \u001b[90m━━━━━━━━━━━━━━━━━━━━━━━━━━━━━━━━━━━━━━━━\u001b[0m \u001b[32m53.0/53.0 kB\u001b[0m \u001b[31m6.2 MB/s\u001b[0m eta \u001b[36m0:00:00\u001b[0m\n",
            "\u001b[2K     \u001b[90m━━━━━━━━━━━━━━━━━━━━━━━━━━━━━━━━━━━━━━━━\u001b[0m \u001b[32m141.1/141.1 kB\u001b[0m \u001b[31m13.9 MB/s\u001b[0m eta \u001b[36m0:00:00\u001b[0m\n",
            "\u001b[2K     \u001b[90m━━━━━━━━━━━━━━━━━━━━━━━━━━━━━━━━━━━━━━━━\u001b[0m \u001b[32m142.2/142.2 kB\u001b[0m \u001b[31m5.2 MB/s\u001b[0m eta \u001b[36m0:00:00\u001b[0m\n",
            "\u001b[2K     \u001b[90m━━━━━━━━━━━━━━━━━━━━━━━━━━━━━━━━━━━━━━━━\u001b[0m \u001b[32m664.5/664.5 kB\u001b[0m \u001b[31m8.6 MB/s\u001b[0m eta \u001b[36m0:00:00\u001b[0m\n",
            "\u001b[?25h"
          ]
        }
      ],
      "source": [
        "#!pip -q install langchain openai tiktoken\n",
        "!pip -q install langchain\n",
        "!pip -q install google-generativeai langchain-google-genai"
      ]
    },
    {
      "cell_type": "markdown",
      "source": [
        "## Camel Dual Agent Interactions"
      ],
      "metadata": {
        "id": "Iiw2yKU_4P3f"
      }
    },
    {
      "cell_type": "code",
      "execution_count": null,
      "metadata": {
        "id": "dNA4TsHpu6OM"
      },
      "outputs": [],
      "source": [
        "#import os\n",
        "#os.environ[\"OPENAI_API_KEY\"] = \"\"\n",
        "\n",
        "from google.colab import userdata\n",
        "GEMINI_API_KEY = userdata.get('GEMINI_API_KEY')"
      ]
    },
    {
      "cell_type": "code",
      "execution_count": null,
      "metadata": {
        "id": "J-KFB7J_u_3L"
      },
      "outputs": [],
      "source": [
        "!pip show langchain"
      ]
    },
    {
      "cell_type": "markdown",
      "metadata": {
        "id": "HqwsGJDhvAQ5"
      },
      "source": [
        "### Setting up OpenAI - gpt-3.5-turbo\n"
      ]
    },
    {
      "cell_type": "code",
      "execution_count": null,
      "metadata": {
        "id": "zc4OIwSqI-Md"
      },
      "outputs": [],
      "source": [
        "from typing import List\n",
        "#from langchain.callbacks import get_openai_callback\n",
        "#from langchain.chat_models import ChatOpenAI\n",
        "from langchain_google_genai import ChatGoogleGenerativeAI\n",
        "from langchain.prompts.chat import (\n",
        "    SystemMessagePromptTemplate,\n",
        "    HumanMessagePromptTemplate,\n",
        ")\n",
        "from langchain.schema import (\n",
        "    AIMessage,\n",
        "    HumanMessage,\n",
        "    SystemMessage,\n",
        "    BaseMessage,\n",
        ")"
      ]
    },
    {
      "cell_type": "code",
      "execution_count": 19,
      "metadata": {
        "id": "GQYtqZhsJBGc"
      },
      "outputs": [],
      "source": [
        "class CAMELAgent:\n",
        "\n",
        "    def __init__(\n",
        "        self,\n",
        "        system_message: SystemMessage,\n",
        "#        model: ChatOpenAI,\n",
        "        model: ChatGoogleGenerativeAI,\n",
        "    ) -> None:\n",
        "        self.system_message = system_message\n",
        "        self.model = model\n",
        "        self.init_messages()\n",
        "\n",
        "    def reset(self) -> None:\n",
        "        self.init_messages()\n",
        "        return self.stored_messages\n",
        "\n",
        "    def init_messages(self) -> None:\n",
        "        self.stored_messages = [self.system_message]\n",
        "\n",
        "    def update_messages(self, message: BaseMessage) -> List[BaseMessage]:\n",
        "        self.stored_messages.append(message)\n",
        "        # print(self.stored_messages)\n",
        "        return self.stored_messages\n",
        "\n",
        "    def step(\n",
        "        self,\n",
        "        input_message: HumanMessage,\n",
        "    ) -> AIMessage:\n",
        "        messages = self.update_messages(input_message)\n",
        "\n",
        "#        output_message = self.model(messages)\n",
        "        output_message = self.model.invoke(messages)\n",
        "        self.update_messages(output_message)\n",
        "\n",
        "        return output_message"
      ]
    },
    {
      "cell_type": "markdown",
      "metadata": {
        "id": "EjEESxmdJR8u"
      },
      "source": [
        "## Setup - The High Level task and roles for role-playing"
      ]
    },
    {
      "cell_type": "code",
      "execution_count": null,
      "metadata": {
        "id": "6G0O5dbAJMFm"
      },
      "outputs": [],
      "source": [
        "\n",
        "# assistant_role_name = \"Food lover 1\"\n",
        "# user_role_name = \"Food lover 2\"\n",
        "# task = \"Discuss the best meals they have ever eaten\"\n",
        "\n",
        "assistant_role_name = \"Singapore Tourism Board \"\n",
        "user_role_name = \"Tourist that has never been to Singapore\"\n",
        "task = \"Discuss the best tourist attractions to see in Singapore\"\n",
        "\n",
        "word_limit = 50 # word limit for task brainstorming"
      ]
    },
    {
      "cell_type": "markdown",
      "metadata": {
        "id": "SbGyMRf9JfsV"
      },
      "source": [
        "## Use Inception prompting to get a better task prompt"
      ]
    },
    {
      "cell_type": "code",
      "execution_count": 20,
      "metadata": {
        "colab": {
          "base_uri": "https://localhost:8080/",
          "height": 586
        },
        "id": "yJHUCm1pJe_V",
        "outputId": "8b0e589e-2e24-494e-83dd-6207db4c01cc"
      },
      "outputs": [
        {
          "output_type": "error",
          "ename": "ValueError",
          "evalue": "Your location is not supported by google-generativeai at the moment. Try to use ChatVertexAI LLM from langchain_google_vertexai.",
          "traceback": [
            "\u001b[0;31m---------------------------------------------------------------------------\u001b[0m",
            "\u001b[0;31m_InactiveRpcError\u001b[0m                         Traceback (most recent call last)",
            "\u001b[0;32m/usr/local/lib/python3.10/dist-packages/google/api_core/grpc_helpers.py\u001b[0m in \u001b[0;36merror_remapped_callable\u001b[0;34m(*args, **kwargs)\u001b[0m\n\u001b[1;32m     71\u001b[0m         \u001b[0;32mtry\u001b[0m\u001b[0;34m:\u001b[0m\u001b[0;34m\u001b[0m\u001b[0;34m\u001b[0m\u001b[0m\n\u001b[0;32m---> 72\u001b[0;31m             \u001b[0;32mreturn\u001b[0m \u001b[0mcallable_\u001b[0m\u001b[0;34m(\u001b[0m\u001b[0;34m*\u001b[0m\u001b[0margs\u001b[0m\u001b[0;34m,\u001b[0m \u001b[0;34m**\u001b[0m\u001b[0mkwargs\u001b[0m\u001b[0;34m)\u001b[0m\u001b[0;34m\u001b[0m\u001b[0;34m\u001b[0m\u001b[0m\n\u001b[0m\u001b[1;32m     73\u001b[0m         \u001b[0;32mexcept\u001b[0m \u001b[0mgrpc\u001b[0m\u001b[0;34m.\u001b[0m\u001b[0mRpcError\u001b[0m \u001b[0;32mas\u001b[0m \u001b[0mexc\u001b[0m\u001b[0;34m:\u001b[0m\u001b[0;34m\u001b[0m\u001b[0;34m\u001b[0m\u001b[0m\n",
            "\u001b[0;32m/usr/local/lib/python3.10/dist-packages/grpc/_channel.py\u001b[0m in \u001b[0;36m__call__\u001b[0;34m(self, request, timeout, metadata, credentials, wait_for_ready, compression)\u001b[0m\n\u001b[1;32m   1175\u001b[0m         )\n\u001b[0;32m-> 1176\u001b[0;31m         \u001b[0;32mreturn\u001b[0m \u001b[0m_end_unary_response_blocking\u001b[0m\u001b[0;34m(\u001b[0m\u001b[0mstate\u001b[0m\u001b[0;34m,\u001b[0m \u001b[0mcall\u001b[0m\u001b[0;34m,\u001b[0m \u001b[0;32mFalse\u001b[0m\u001b[0;34m,\u001b[0m \u001b[0;32mNone\u001b[0m\u001b[0;34m)\u001b[0m\u001b[0;34m\u001b[0m\u001b[0;34m\u001b[0m\u001b[0m\n\u001b[0m\u001b[1;32m   1177\u001b[0m \u001b[0;34m\u001b[0m\u001b[0m\n",
            "\u001b[0;32m/usr/local/lib/python3.10/dist-packages/grpc/_channel.py\u001b[0m in \u001b[0;36m_end_unary_response_blocking\u001b[0;34m(state, call, with_call, deadline)\u001b[0m\n\u001b[1;32m   1004\u001b[0m     \u001b[0;32melse\u001b[0m\u001b[0;34m:\u001b[0m\u001b[0;34m\u001b[0m\u001b[0;34m\u001b[0m\u001b[0m\n\u001b[0;32m-> 1005\u001b[0;31m         \u001b[0;32mraise\u001b[0m \u001b[0m_InactiveRpcError\u001b[0m\u001b[0;34m(\u001b[0m\u001b[0mstate\u001b[0m\u001b[0;34m)\u001b[0m  \u001b[0;31m# pytype: disable=not-instantiable\u001b[0m\u001b[0;34m\u001b[0m\u001b[0;34m\u001b[0m\u001b[0m\n\u001b[0m\u001b[1;32m   1006\u001b[0m \u001b[0;34m\u001b[0m\u001b[0m\n",
            "\u001b[0;31m_InactiveRpcError\u001b[0m: <_InactiveRpcError of RPC that terminated with:\n\tstatus = StatusCode.FAILED_PRECONDITION\n\tdetails = \"User location is not supported for the API use.\"\n\tdebug_error_string = \"UNKNOWN:Error received from peer ipv4:108.177.127.95:443 {grpc_message:\"User location is not supported for the API use.\", grpc_status:9, created_time:\"2024-04-18T10:32:42.832422207+00:00\"}\"\n>",
            "\nThe above exception was the direct cause of the following exception:\n",
            "\u001b[0;31mFailedPrecondition\u001b[0m                        Traceback (most recent call last)",
            "\u001b[0;32m/usr/local/lib/python3.10/dist-packages/langchain_google_genai/chat_models.py\u001b[0m in \u001b[0;36m_chat_with_retry\u001b[0;34m(**kwargs)\u001b[0m\n\u001b[1;32m    134\u001b[0m         \u001b[0;32mtry\u001b[0m\u001b[0;34m:\u001b[0m\u001b[0;34m\u001b[0m\u001b[0;34m\u001b[0m\u001b[0m\n\u001b[0;32m--> 135\u001b[0;31m             \u001b[0;32mreturn\u001b[0m \u001b[0mgeneration_method\u001b[0m\u001b[0;34m(\u001b[0m\u001b[0;34m**\u001b[0m\u001b[0mkwargs\u001b[0m\u001b[0;34m)\u001b[0m\u001b[0;34m\u001b[0m\u001b[0;34m\u001b[0m\u001b[0m\n\u001b[0m\u001b[1;32m    136\u001b[0m         \u001b[0;31m# Do not retry for these errors.\u001b[0m\u001b[0;34m\u001b[0m\u001b[0;34m\u001b[0m\u001b[0m\n",
            "\u001b[0;32m/usr/local/lib/python3.10/dist-packages/google/generativeai/generative_models.py\u001b[0m in \u001b[0;36msend_message\u001b[0;34m(self, content, generation_config, safety_settings, stream, tools, tool_config)\u001b[0m\n\u001b[1;32m    473\u001b[0m \u001b[0;34m\u001b[0m\u001b[0m\n\u001b[0;32m--> 474\u001b[0;31m         response = self.model.generate_content(\n\u001b[0m\u001b[1;32m    475\u001b[0m             \u001b[0mcontents\u001b[0m\u001b[0;34m=\u001b[0m\u001b[0mhistory\u001b[0m\u001b[0;34m,\u001b[0m\u001b[0;34m\u001b[0m\u001b[0;34m\u001b[0m\u001b[0m\n",
            "\u001b[0;32m/usr/local/lib/python3.10/dist-packages/google/generativeai/generative_models.py\u001b[0m in \u001b[0;36mgenerate_content\u001b[0;34m(self, contents, generation_config, safety_settings, stream, tools, tool_config, request_options)\u001b[0m\n\u001b[1;32m    261\u001b[0m             \u001b[0;32melse\u001b[0m\u001b[0;34m:\u001b[0m\u001b[0;34m\u001b[0m\u001b[0;34m\u001b[0m\u001b[0m\n\u001b[0;32m--> 262\u001b[0;31m                 response = self._client.generate_content(\n\u001b[0m\u001b[1;32m    263\u001b[0m                     \u001b[0mrequest\u001b[0m\u001b[0;34m,\u001b[0m\u001b[0;34m\u001b[0m\u001b[0;34m\u001b[0m\u001b[0m\n",
            "\u001b[0;32m/usr/local/lib/python3.10/dist-packages/google/ai/generativelanguage_v1beta/services/generative_service/client.py\u001b[0m in \u001b[0;36mgenerate_content\u001b[0;34m(self, request, model, contents, retry, timeout, metadata)\u001b[0m\n\u001b[1;32m    790\u001b[0m         \u001b[0;31m# Send the request.\u001b[0m\u001b[0;34m\u001b[0m\u001b[0;34m\u001b[0m\u001b[0m\n\u001b[0;32m--> 791\u001b[0;31m         response = rpc(\n\u001b[0m\u001b[1;32m    792\u001b[0m             \u001b[0mrequest\u001b[0m\u001b[0;34m,\u001b[0m\u001b[0;34m\u001b[0m\u001b[0;34m\u001b[0m\u001b[0m\n",
            "\u001b[0;32m/usr/local/lib/python3.10/dist-packages/google/api_core/gapic_v1/method.py\u001b[0m in \u001b[0;36m__call__\u001b[0;34m(self, timeout, retry, *args, **kwargs)\u001b[0m\n\u001b[1;32m    112\u001b[0m \u001b[0;34m\u001b[0m\u001b[0m\n\u001b[0;32m--> 113\u001b[0;31m         \u001b[0;32mreturn\u001b[0m \u001b[0mwrapped_func\u001b[0m\u001b[0;34m(\u001b[0m\u001b[0;34m*\u001b[0m\u001b[0margs\u001b[0m\u001b[0;34m,\u001b[0m \u001b[0;34m**\u001b[0m\u001b[0mkwargs\u001b[0m\u001b[0;34m)\u001b[0m\u001b[0;34m\u001b[0m\u001b[0;34m\u001b[0m\u001b[0m\n\u001b[0m\u001b[1;32m    114\u001b[0m \u001b[0;34m\u001b[0m\u001b[0m\n",
            "\u001b[0;32m/usr/local/lib/python3.10/dist-packages/google/api_core/retry.py\u001b[0m in \u001b[0;36mretry_wrapped_func\u001b[0;34m(*args, **kwargs)\u001b[0m\n\u001b[1;32m    348\u001b[0m             )\n\u001b[0;32m--> 349\u001b[0;31m             return retry_target(\n\u001b[0m\u001b[1;32m    350\u001b[0m                 \u001b[0mtarget\u001b[0m\u001b[0;34m,\u001b[0m\u001b[0;34m\u001b[0m\u001b[0;34m\u001b[0m\u001b[0m\n",
            "\u001b[0;32m/usr/local/lib/python3.10/dist-packages/google/api_core/retry.py\u001b[0m in \u001b[0;36mretry_target\u001b[0;34m(target, predicate, sleep_generator, timeout, on_error, **kwargs)\u001b[0m\n\u001b[1;32m    190\u001b[0m         \u001b[0;32mtry\u001b[0m\u001b[0;34m:\u001b[0m\u001b[0;34m\u001b[0m\u001b[0;34m\u001b[0m\u001b[0m\n\u001b[0;32m--> 191\u001b[0;31m             \u001b[0;32mreturn\u001b[0m \u001b[0mtarget\u001b[0m\u001b[0;34m(\u001b[0m\u001b[0;34m)\u001b[0m\u001b[0;34m\u001b[0m\u001b[0;34m\u001b[0m\u001b[0m\n\u001b[0m\u001b[1;32m    192\u001b[0m \u001b[0;34m\u001b[0m\u001b[0m\n",
            "\u001b[0;32m/usr/local/lib/python3.10/dist-packages/google/api_core/timeout.py\u001b[0m in \u001b[0;36mfunc_with_timeout\u001b[0;34m(*args, **kwargs)\u001b[0m\n\u001b[1;32m    119\u001b[0m \u001b[0;34m\u001b[0m\u001b[0m\n\u001b[0;32m--> 120\u001b[0;31m             \u001b[0;32mreturn\u001b[0m \u001b[0mfunc\u001b[0m\u001b[0;34m(\u001b[0m\u001b[0;34m*\u001b[0m\u001b[0margs\u001b[0m\u001b[0;34m,\u001b[0m \u001b[0;34m**\u001b[0m\u001b[0mkwargs\u001b[0m\u001b[0;34m)\u001b[0m\u001b[0;34m\u001b[0m\u001b[0;34m\u001b[0m\u001b[0m\n\u001b[0m\u001b[1;32m    121\u001b[0m \u001b[0;34m\u001b[0m\u001b[0m\n",
            "\u001b[0;32m/usr/local/lib/python3.10/dist-packages/google/api_core/grpc_helpers.py\u001b[0m in \u001b[0;36merror_remapped_callable\u001b[0;34m(*args, **kwargs)\u001b[0m\n\u001b[1;32m     73\u001b[0m         \u001b[0;32mexcept\u001b[0m \u001b[0mgrpc\u001b[0m\u001b[0;34m.\u001b[0m\u001b[0mRpcError\u001b[0m \u001b[0;32mas\u001b[0m \u001b[0mexc\u001b[0m\u001b[0;34m:\u001b[0m\u001b[0;34m\u001b[0m\u001b[0;34m\u001b[0m\u001b[0m\n\u001b[0;32m---> 74\u001b[0;31m             \u001b[0;32mraise\u001b[0m \u001b[0mexceptions\u001b[0m\u001b[0;34m.\u001b[0m\u001b[0mfrom_grpc_error\u001b[0m\u001b[0;34m(\u001b[0m\u001b[0mexc\u001b[0m\u001b[0;34m)\u001b[0m \u001b[0;32mfrom\u001b[0m \u001b[0mexc\u001b[0m\u001b[0;34m\u001b[0m\u001b[0;34m\u001b[0m\u001b[0m\n\u001b[0m\u001b[1;32m     75\u001b[0m \u001b[0;34m\u001b[0m\u001b[0m\n",
            "\u001b[0;31mFailedPrecondition\u001b[0m: 400 User location is not supported for the API use.",
            "\nDuring handling of the above exception, another exception occurred:\n",
            "\u001b[0;31mValueError\u001b[0m                                Traceback (most recent call last)",
            "\u001b[0;32m<ipython-input-20-fcac64d9fde3>\u001b[0m in \u001b[0;36m<cell line: 14>\u001b[0;34m()\u001b[0m\n\u001b[1;32m     12\u001b[0m                                                              \u001b[0muser_role_name\u001b[0m\u001b[0;34m=\u001b[0m\u001b[0muser_role_name\u001b[0m\u001b[0;34m,\u001b[0m\u001b[0;34m\u001b[0m\u001b[0;34m\u001b[0m\u001b[0m\n\u001b[1;32m     13\u001b[0m                                                              task=task, word_limit=word_limit)[0]\n\u001b[0;32m---> 14\u001b[0;31m \u001b[0mspecified_task_msg\u001b[0m \u001b[0;34m=\u001b[0m \u001b[0mtask_specify_agent\u001b[0m\u001b[0;34m.\u001b[0m\u001b[0mstep\u001b[0m\u001b[0;34m(\u001b[0m\u001b[0mtask_specifier_msg\u001b[0m\u001b[0;34m)\u001b[0m\u001b[0;34m\u001b[0m\u001b[0;34m\u001b[0m\u001b[0m\n\u001b[0m\u001b[1;32m     15\u001b[0m \u001b[0mprint\u001b[0m\u001b[0;34m(\u001b[0m\u001b[0;34mf\"Specified task: {specified_task_msg.content}\"\u001b[0m\u001b[0;34m)\u001b[0m\u001b[0;34m\u001b[0m\u001b[0;34m\u001b[0m\u001b[0m\n\u001b[1;32m     16\u001b[0m \u001b[0mspecified_task\u001b[0m \u001b[0;34m=\u001b[0m \u001b[0mspecified_task_msg\u001b[0m\u001b[0;34m.\u001b[0m\u001b[0mcontent\u001b[0m\u001b[0;34m\u001b[0m\u001b[0;34m\u001b[0m\u001b[0m\n",
            "\u001b[0;32m<ipython-input-19-e0427ecd8bd3>\u001b[0m in \u001b[0;36mstep\u001b[0;34m(self, input_message)\u001b[0m\n\u001b[1;32m     30\u001b[0m \u001b[0;34m\u001b[0m\u001b[0m\n\u001b[1;32m     31\u001b[0m \u001b[0;31m#        output_message = self.model(messages)\u001b[0m\u001b[0;34m\u001b[0m\u001b[0;34m\u001b[0m\u001b[0m\n\u001b[0;32m---> 32\u001b[0;31m         \u001b[0moutput_message\u001b[0m \u001b[0;34m=\u001b[0m \u001b[0mself\u001b[0m\u001b[0;34m.\u001b[0m\u001b[0mmodel\u001b[0m\u001b[0;34m.\u001b[0m\u001b[0minvoke\u001b[0m\u001b[0;34m(\u001b[0m\u001b[0mmessages\u001b[0m\u001b[0;34m)\u001b[0m\u001b[0;34m\u001b[0m\u001b[0;34m\u001b[0m\u001b[0m\n\u001b[0m\u001b[1;32m     33\u001b[0m         \u001b[0mself\u001b[0m\u001b[0;34m.\u001b[0m\u001b[0mupdate_messages\u001b[0m\u001b[0;34m(\u001b[0m\u001b[0moutput_message\u001b[0m\u001b[0;34m)\u001b[0m\u001b[0;34m\u001b[0m\u001b[0;34m\u001b[0m\u001b[0m\n\u001b[1;32m     34\u001b[0m \u001b[0;34m\u001b[0m\u001b[0m\n",
            "\u001b[0;32m/usr/local/lib/python3.10/dist-packages/langchain_core/language_models/chat_models.py\u001b[0m in \u001b[0;36minvoke\u001b[0;34m(self, input, config, stop, **kwargs)\u001b[0m\n\u001b[1;32m    156\u001b[0m         return cast(\n\u001b[1;32m    157\u001b[0m             \u001b[0mChatGeneration\u001b[0m\u001b[0;34m,\u001b[0m\u001b[0;34m\u001b[0m\u001b[0;34m\u001b[0m\u001b[0m\n\u001b[0;32m--> 158\u001b[0;31m             self.generate_prompt(\n\u001b[0m\u001b[1;32m    159\u001b[0m                 \u001b[0;34m[\u001b[0m\u001b[0mself\u001b[0m\u001b[0;34m.\u001b[0m\u001b[0m_convert_input\u001b[0m\u001b[0;34m(\u001b[0m\u001b[0minput\u001b[0m\u001b[0;34m)\u001b[0m\u001b[0;34m]\u001b[0m\u001b[0;34m,\u001b[0m\u001b[0;34m\u001b[0m\u001b[0;34m\u001b[0m\u001b[0m\n\u001b[1;32m    160\u001b[0m                 \u001b[0mstop\u001b[0m\u001b[0;34m=\u001b[0m\u001b[0mstop\u001b[0m\u001b[0;34m,\u001b[0m\u001b[0;34m\u001b[0m\u001b[0;34m\u001b[0m\u001b[0m\n",
            "\u001b[0;32m/usr/local/lib/python3.10/dist-packages/langchain_core/language_models/chat_models.py\u001b[0m in \u001b[0;36mgenerate_prompt\u001b[0;34m(self, prompts, stop, callbacks, **kwargs)\u001b[0m\n\u001b[1;32m    558\u001b[0m     ) -> LLMResult:\n\u001b[1;32m    559\u001b[0m         \u001b[0mprompt_messages\u001b[0m \u001b[0;34m=\u001b[0m \u001b[0;34m[\u001b[0m\u001b[0mp\u001b[0m\u001b[0;34m.\u001b[0m\u001b[0mto_messages\u001b[0m\u001b[0;34m(\u001b[0m\u001b[0;34m)\u001b[0m \u001b[0;32mfor\u001b[0m \u001b[0mp\u001b[0m \u001b[0;32min\u001b[0m \u001b[0mprompts\u001b[0m\u001b[0;34m]\u001b[0m\u001b[0;34m\u001b[0m\u001b[0;34m\u001b[0m\u001b[0m\n\u001b[0;32m--> 560\u001b[0;31m         \u001b[0;32mreturn\u001b[0m \u001b[0mself\u001b[0m\u001b[0;34m.\u001b[0m\u001b[0mgenerate\u001b[0m\u001b[0;34m(\u001b[0m\u001b[0mprompt_messages\u001b[0m\u001b[0;34m,\u001b[0m \u001b[0mstop\u001b[0m\u001b[0;34m=\u001b[0m\u001b[0mstop\u001b[0m\u001b[0;34m,\u001b[0m \u001b[0mcallbacks\u001b[0m\u001b[0;34m=\u001b[0m\u001b[0mcallbacks\u001b[0m\u001b[0;34m,\u001b[0m \u001b[0;34m**\u001b[0m\u001b[0mkwargs\u001b[0m\u001b[0;34m)\u001b[0m\u001b[0;34m\u001b[0m\u001b[0;34m\u001b[0m\u001b[0m\n\u001b[0m\u001b[1;32m    561\u001b[0m \u001b[0;34m\u001b[0m\u001b[0m\n\u001b[1;32m    562\u001b[0m     async def agenerate_prompt(\n",
            "\u001b[0;32m/usr/local/lib/python3.10/dist-packages/langchain_core/language_models/chat_models.py\u001b[0m in \u001b[0;36mgenerate\u001b[0;34m(self, messages, stop, callbacks, tags, metadata, run_name, run_id, **kwargs)\u001b[0m\n\u001b[1;32m    419\u001b[0m                 \u001b[0;32mif\u001b[0m \u001b[0mrun_managers\u001b[0m\u001b[0;34m:\u001b[0m\u001b[0;34m\u001b[0m\u001b[0;34m\u001b[0m\u001b[0m\n\u001b[1;32m    420\u001b[0m                     \u001b[0mrun_managers\u001b[0m\u001b[0;34m[\u001b[0m\u001b[0mi\u001b[0m\u001b[0;34m]\u001b[0m\u001b[0;34m.\u001b[0m\u001b[0mon_llm_error\u001b[0m\u001b[0;34m(\u001b[0m\u001b[0me\u001b[0m\u001b[0;34m,\u001b[0m \u001b[0mresponse\u001b[0m\u001b[0;34m=\u001b[0m\u001b[0mLLMResult\u001b[0m\u001b[0;34m(\u001b[0m\u001b[0mgenerations\u001b[0m\u001b[0;34m=\u001b[0m\u001b[0;34m[\u001b[0m\u001b[0;34m]\u001b[0m\u001b[0;34m)\u001b[0m\u001b[0;34m)\u001b[0m\u001b[0;34m\u001b[0m\u001b[0;34m\u001b[0m\u001b[0m\n\u001b[0;32m--> 421\u001b[0;31m                 \u001b[0;32mraise\u001b[0m \u001b[0me\u001b[0m\u001b[0;34m\u001b[0m\u001b[0;34m\u001b[0m\u001b[0m\n\u001b[0m\u001b[1;32m    422\u001b[0m         flattened_outputs = [\n\u001b[1;32m    423\u001b[0m             \u001b[0mLLMResult\u001b[0m\u001b[0;34m(\u001b[0m\u001b[0mgenerations\u001b[0m\u001b[0;34m=\u001b[0m\u001b[0;34m[\u001b[0m\u001b[0mres\u001b[0m\u001b[0;34m.\u001b[0m\u001b[0mgenerations\u001b[0m\u001b[0;34m]\u001b[0m\u001b[0;34m,\u001b[0m \u001b[0mllm_output\u001b[0m\u001b[0;34m=\u001b[0m\u001b[0mres\u001b[0m\u001b[0;34m.\u001b[0m\u001b[0mllm_output\u001b[0m\u001b[0;34m)\u001b[0m  \u001b[0;31m# type: ignore[list-item]\u001b[0m\u001b[0;34m\u001b[0m\u001b[0;34m\u001b[0m\u001b[0m\n",
            "\u001b[0;32m/usr/local/lib/python3.10/dist-packages/langchain_core/language_models/chat_models.py\u001b[0m in \u001b[0;36mgenerate\u001b[0;34m(self, messages, stop, callbacks, tags, metadata, run_name, run_id, **kwargs)\u001b[0m\n\u001b[1;32m    409\u001b[0m             \u001b[0;32mtry\u001b[0m\u001b[0;34m:\u001b[0m\u001b[0;34m\u001b[0m\u001b[0;34m\u001b[0m\u001b[0m\n\u001b[1;32m    410\u001b[0m                 results.append(\n\u001b[0;32m--> 411\u001b[0;31m                     self._generate_with_cache(\n\u001b[0m\u001b[1;32m    412\u001b[0m                         \u001b[0mm\u001b[0m\u001b[0;34m,\u001b[0m\u001b[0;34m\u001b[0m\u001b[0;34m\u001b[0m\u001b[0m\n\u001b[1;32m    413\u001b[0m                         \u001b[0mstop\u001b[0m\u001b[0;34m=\u001b[0m\u001b[0mstop\u001b[0m\u001b[0;34m,\u001b[0m\u001b[0;34m\u001b[0m\u001b[0;34m\u001b[0m\u001b[0m\n",
            "\u001b[0;32m/usr/local/lib/python3.10/dist-packages/langchain_core/language_models/chat_models.py\u001b[0m in \u001b[0;36m_generate_with_cache\u001b[0;34m(self, messages, stop, run_manager, **kwargs)\u001b[0m\n\u001b[1;32m    630\u001b[0m         \u001b[0;32melse\u001b[0m\u001b[0;34m:\u001b[0m\u001b[0;34m\u001b[0m\u001b[0;34m\u001b[0m\u001b[0m\n\u001b[1;32m    631\u001b[0m             \u001b[0;32mif\u001b[0m \u001b[0minspect\u001b[0m\u001b[0;34m.\u001b[0m\u001b[0msignature\u001b[0m\u001b[0;34m(\u001b[0m\u001b[0mself\u001b[0m\u001b[0;34m.\u001b[0m\u001b[0m_generate\u001b[0m\u001b[0;34m)\u001b[0m\u001b[0;34m.\u001b[0m\u001b[0mparameters\u001b[0m\u001b[0;34m.\u001b[0m\u001b[0mget\u001b[0m\u001b[0;34m(\u001b[0m\u001b[0;34m\"run_manager\"\u001b[0m\u001b[0;34m)\u001b[0m\u001b[0;34m:\u001b[0m\u001b[0;34m\u001b[0m\u001b[0;34m\u001b[0m\u001b[0m\n\u001b[0;32m--> 632\u001b[0;31m                 result = self._generate(\n\u001b[0m\u001b[1;32m    633\u001b[0m                     \u001b[0mmessages\u001b[0m\u001b[0;34m,\u001b[0m \u001b[0mstop\u001b[0m\u001b[0;34m=\u001b[0m\u001b[0mstop\u001b[0m\u001b[0;34m,\u001b[0m \u001b[0mrun_manager\u001b[0m\u001b[0;34m=\u001b[0m\u001b[0mrun_manager\u001b[0m\u001b[0;34m,\u001b[0m \u001b[0;34m**\u001b[0m\u001b[0mkwargs\u001b[0m\u001b[0;34m\u001b[0m\u001b[0;34m\u001b[0m\u001b[0m\n\u001b[1;32m    634\u001b[0m                 )\n",
            "\u001b[0;32m/usr/local/lib/python3.10/dist-packages/langchain_google_genai/chat_models.py\u001b[0m in \u001b[0;36m_generate\u001b[0;34m(self, messages, stop, run_manager, **kwargs)\u001b[0m\n\u001b[1;32m    547\u001b[0m             \u001b[0;34m**\u001b[0m\u001b[0mkwargs\u001b[0m\u001b[0;34m,\u001b[0m\u001b[0;34m\u001b[0m\u001b[0;34m\u001b[0m\u001b[0m\n\u001b[1;32m    548\u001b[0m         )\n\u001b[0;32m--> 549\u001b[0;31m         response: genai.types.GenerateContentResponse = _chat_with_retry(\n\u001b[0m\u001b[1;32m    550\u001b[0m             \u001b[0mcontent\u001b[0m\u001b[0;34m=\u001b[0m\u001b[0mmessage\u001b[0m\u001b[0;34m,\u001b[0m\u001b[0;34m\u001b[0m\u001b[0;34m\u001b[0m\u001b[0m\n\u001b[1;32m    551\u001b[0m             \u001b[0;34m**\u001b[0m\u001b[0mparams\u001b[0m\u001b[0;34m,\u001b[0m\u001b[0;34m\u001b[0m\u001b[0;34m\u001b[0m\u001b[0m\n",
            "\u001b[0;32m/usr/local/lib/python3.10/dist-packages/langchain_google_genai/chat_models.py\u001b[0m in \u001b[0;36m_chat_with_retry\u001b[0;34m(generation_method, **kwargs)\u001b[0m\n\u001b[1;32m    151\u001b[0m             \u001b[0;32mraise\u001b[0m \u001b[0me\u001b[0m\u001b[0;34m\u001b[0m\u001b[0;34m\u001b[0m\u001b[0m\n\u001b[1;32m    152\u001b[0m \u001b[0;34m\u001b[0m\u001b[0m\n\u001b[0;32m--> 153\u001b[0;31m     \u001b[0;32mreturn\u001b[0m \u001b[0m_chat_with_retry\u001b[0m\u001b[0;34m(\u001b[0m\u001b[0;34m**\u001b[0m\u001b[0mkwargs\u001b[0m\u001b[0;34m)\u001b[0m\u001b[0;34m\u001b[0m\u001b[0;34m\u001b[0m\u001b[0m\n\u001b[0m\u001b[1;32m    154\u001b[0m \u001b[0;34m\u001b[0m\u001b[0m\n\u001b[1;32m    155\u001b[0m \u001b[0;34m\u001b[0m\u001b[0m\n",
            "\u001b[0;32m/usr/local/lib/python3.10/dist-packages/tenacity/__init__.py\u001b[0m in \u001b[0;36mwrapped_f\u001b[0;34m(*args, **kw)\u001b[0m\n\u001b[1;32m    287\u001b[0m         \u001b[0;34m@\u001b[0m\u001b[0mfunctools\u001b[0m\u001b[0;34m.\u001b[0m\u001b[0mwraps\u001b[0m\u001b[0;34m(\u001b[0m\u001b[0mf\u001b[0m\u001b[0;34m)\u001b[0m\u001b[0;34m\u001b[0m\u001b[0;34m\u001b[0m\u001b[0m\n\u001b[1;32m    288\u001b[0m         \u001b[0;32mdef\u001b[0m \u001b[0mwrapped_f\u001b[0m\u001b[0;34m(\u001b[0m\u001b[0;34m*\u001b[0m\u001b[0margs\u001b[0m\u001b[0;34m:\u001b[0m \u001b[0mt\u001b[0m\u001b[0;34m.\u001b[0m\u001b[0mAny\u001b[0m\u001b[0;34m,\u001b[0m \u001b[0;34m**\u001b[0m\u001b[0mkw\u001b[0m\u001b[0;34m:\u001b[0m \u001b[0mt\u001b[0m\u001b[0;34m.\u001b[0m\u001b[0mAny\u001b[0m\u001b[0;34m)\u001b[0m \u001b[0;34m->\u001b[0m \u001b[0mt\u001b[0m\u001b[0;34m.\u001b[0m\u001b[0mAny\u001b[0m\u001b[0;34m:\u001b[0m\u001b[0;34m\u001b[0m\u001b[0;34m\u001b[0m\u001b[0m\n\u001b[0;32m--> 289\u001b[0;31m             \u001b[0;32mreturn\u001b[0m \u001b[0mself\u001b[0m\u001b[0;34m(\u001b[0m\u001b[0mf\u001b[0m\u001b[0;34m,\u001b[0m \u001b[0;34m*\u001b[0m\u001b[0margs\u001b[0m\u001b[0;34m,\u001b[0m \u001b[0;34m**\u001b[0m\u001b[0mkw\u001b[0m\u001b[0;34m)\u001b[0m\u001b[0;34m\u001b[0m\u001b[0;34m\u001b[0m\u001b[0m\n\u001b[0m\u001b[1;32m    290\u001b[0m \u001b[0;34m\u001b[0m\u001b[0m\n\u001b[1;32m    291\u001b[0m         \u001b[0;32mdef\u001b[0m \u001b[0mretry_with\u001b[0m\u001b[0;34m(\u001b[0m\u001b[0;34m*\u001b[0m\u001b[0margs\u001b[0m\u001b[0;34m:\u001b[0m \u001b[0mt\u001b[0m\u001b[0;34m.\u001b[0m\u001b[0mAny\u001b[0m\u001b[0;34m,\u001b[0m \u001b[0;34m**\u001b[0m\u001b[0mkwargs\u001b[0m\u001b[0;34m:\u001b[0m \u001b[0mt\u001b[0m\u001b[0;34m.\u001b[0m\u001b[0mAny\u001b[0m\u001b[0;34m)\u001b[0m \u001b[0;34m->\u001b[0m \u001b[0mWrappedFn\u001b[0m\u001b[0;34m:\u001b[0m\u001b[0;34m\u001b[0m\u001b[0;34m\u001b[0m\u001b[0m\n",
            "\u001b[0;32m/usr/local/lib/python3.10/dist-packages/tenacity/__init__.py\u001b[0m in \u001b[0;36m__call__\u001b[0;34m(self, fn, *args, **kwargs)\u001b[0m\n\u001b[1;32m    377\u001b[0m         \u001b[0mretry_state\u001b[0m \u001b[0;34m=\u001b[0m \u001b[0mRetryCallState\u001b[0m\u001b[0;34m(\u001b[0m\u001b[0mretry_object\u001b[0m\u001b[0;34m=\u001b[0m\u001b[0mself\u001b[0m\u001b[0;34m,\u001b[0m \u001b[0mfn\u001b[0m\u001b[0;34m=\u001b[0m\u001b[0mfn\u001b[0m\u001b[0;34m,\u001b[0m \u001b[0margs\u001b[0m\u001b[0;34m=\u001b[0m\u001b[0margs\u001b[0m\u001b[0;34m,\u001b[0m \u001b[0mkwargs\u001b[0m\u001b[0;34m=\u001b[0m\u001b[0mkwargs\u001b[0m\u001b[0;34m)\u001b[0m\u001b[0;34m\u001b[0m\u001b[0;34m\u001b[0m\u001b[0m\n\u001b[1;32m    378\u001b[0m         \u001b[0;32mwhile\u001b[0m \u001b[0;32mTrue\u001b[0m\u001b[0;34m:\u001b[0m\u001b[0;34m\u001b[0m\u001b[0;34m\u001b[0m\u001b[0m\n\u001b[0;32m--> 379\u001b[0;31m             \u001b[0mdo\u001b[0m \u001b[0;34m=\u001b[0m \u001b[0mself\u001b[0m\u001b[0;34m.\u001b[0m\u001b[0miter\u001b[0m\u001b[0;34m(\u001b[0m\u001b[0mretry_state\u001b[0m\u001b[0;34m=\u001b[0m\u001b[0mretry_state\u001b[0m\u001b[0;34m)\u001b[0m\u001b[0;34m\u001b[0m\u001b[0;34m\u001b[0m\u001b[0m\n\u001b[0m\u001b[1;32m    380\u001b[0m             \u001b[0;32mif\u001b[0m \u001b[0misinstance\u001b[0m\u001b[0;34m(\u001b[0m\u001b[0mdo\u001b[0m\u001b[0;34m,\u001b[0m \u001b[0mDoAttempt\u001b[0m\u001b[0;34m)\u001b[0m\u001b[0;34m:\u001b[0m\u001b[0;34m\u001b[0m\u001b[0;34m\u001b[0m\u001b[0m\n\u001b[1;32m    381\u001b[0m                 \u001b[0;32mtry\u001b[0m\u001b[0;34m:\u001b[0m\u001b[0;34m\u001b[0m\u001b[0;34m\u001b[0m\u001b[0m\n",
            "\u001b[0;32m/usr/local/lib/python3.10/dist-packages/tenacity/__init__.py\u001b[0m in \u001b[0;36miter\u001b[0;34m(self, retry_state)\u001b[0m\n\u001b[1;32m    312\u001b[0m         \u001b[0mis_explicit_retry\u001b[0m \u001b[0;34m=\u001b[0m \u001b[0mfut\u001b[0m\u001b[0;34m.\u001b[0m\u001b[0mfailed\u001b[0m \u001b[0;32mand\u001b[0m \u001b[0misinstance\u001b[0m\u001b[0;34m(\u001b[0m\u001b[0mfut\u001b[0m\u001b[0;34m.\u001b[0m\u001b[0mexception\u001b[0m\u001b[0;34m(\u001b[0m\u001b[0;34m)\u001b[0m\u001b[0;34m,\u001b[0m \u001b[0mTryAgain\u001b[0m\u001b[0;34m)\u001b[0m\u001b[0;34m\u001b[0m\u001b[0;34m\u001b[0m\u001b[0m\n\u001b[1;32m    313\u001b[0m         \u001b[0;32mif\u001b[0m \u001b[0;32mnot\u001b[0m \u001b[0;34m(\u001b[0m\u001b[0mis_explicit_retry\u001b[0m \u001b[0;32mor\u001b[0m \u001b[0mself\u001b[0m\u001b[0;34m.\u001b[0m\u001b[0mretry\u001b[0m\u001b[0;34m(\u001b[0m\u001b[0mretry_state\u001b[0m\u001b[0;34m)\u001b[0m\u001b[0;34m)\u001b[0m\u001b[0;34m:\u001b[0m\u001b[0;34m\u001b[0m\u001b[0;34m\u001b[0m\u001b[0m\n\u001b[0;32m--> 314\u001b[0;31m             \u001b[0;32mreturn\u001b[0m \u001b[0mfut\u001b[0m\u001b[0;34m.\u001b[0m\u001b[0mresult\u001b[0m\u001b[0;34m(\u001b[0m\u001b[0;34m)\u001b[0m\u001b[0;34m\u001b[0m\u001b[0;34m\u001b[0m\u001b[0m\n\u001b[0m\u001b[1;32m    315\u001b[0m \u001b[0;34m\u001b[0m\u001b[0m\n\u001b[1;32m    316\u001b[0m         \u001b[0;32mif\u001b[0m \u001b[0mself\u001b[0m\u001b[0;34m.\u001b[0m\u001b[0mafter\u001b[0m \u001b[0;32mis\u001b[0m \u001b[0;32mnot\u001b[0m \u001b[0;32mNone\u001b[0m\u001b[0;34m:\u001b[0m\u001b[0;34m\u001b[0m\u001b[0;34m\u001b[0m\u001b[0m\n",
            "\u001b[0;32m/usr/lib/python3.10/concurrent/futures/_base.py\u001b[0m in \u001b[0;36mresult\u001b[0;34m(self, timeout)\u001b[0m\n\u001b[1;32m    449\u001b[0m                     \u001b[0;32mraise\u001b[0m \u001b[0mCancelledError\u001b[0m\u001b[0;34m(\u001b[0m\u001b[0;34m)\u001b[0m\u001b[0;34m\u001b[0m\u001b[0;34m\u001b[0m\u001b[0m\n\u001b[1;32m    450\u001b[0m                 \u001b[0;32melif\u001b[0m \u001b[0mself\u001b[0m\u001b[0;34m.\u001b[0m\u001b[0m_state\u001b[0m \u001b[0;34m==\u001b[0m \u001b[0mFINISHED\u001b[0m\u001b[0;34m:\u001b[0m\u001b[0;34m\u001b[0m\u001b[0;34m\u001b[0m\u001b[0m\n\u001b[0;32m--> 451\u001b[0;31m                     \u001b[0;32mreturn\u001b[0m \u001b[0mself\u001b[0m\u001b[0;34m.\u001b[0m\u001b[0m__get_result\u001b[0m\u001b[0;34m(\u001b[0m\u001b[0;34m)\u001b[0m\u001b[0;34m\u001b[0m\u001b[0;34m\u001b[0m\u001b[0m\n\u001b[0m\u001b[1;32m    452\u001b[0m \u001b[0;34m\u001b[0m\u001b[0m\n\u001b[1;32m    453\u001b[0m                 \u001b[0mself\u001b[0m\u001b[0;34m.\u001b[0m\u001b[0m_condition\u001b[0m\u001b[0;34m.\u001b[0m\u001b[0mwait\u001b[0m\u001b[0;34m(\u001b[0m\u001b[0mtimeout\u001b[0m\u001b[0;34m)\u001b[0m\u001b[0;34m\u001b[0m\u001b[0;34m\u001b[0m\u001b[0m\n",
            "\u001b[0;32m/usr/lib/python3.10/concurrent/futures/_base.py\u001b[0m in \u001b[0;36m__get_result\u001b[0;34m(self)\u001b[0m\n\u001b[1;32m    401\u001b[0m         \u001b[0;32mif\u001b[0m \u001b[0mself\u001b[0m\u001b[0;34m.\u001b[0m\u001b[0m_exception\u001b[0m\u001b[0;34m:\u001b[0m\u001b[0;34m\u001b[0m\u001b[0;34m\u001b[0m\u001b[0m\n\u001b[1;32m    402\u001b[0m             \u001b[0;32mtry\u001b[0m\u001b[0;34m:\u001b[0m\u001b[0;34m\u001b[0m\u001b[0;34m\u001b[0m\u001b[0m\n\u001b[0;32m--> 403\u001b[0;31m                 \u001b[0;32mraise\u001b[0m \u001b[0mself\u001b[0m\u001b[0;34m.\u001b[0m\u001b[0m_exception\u001b[0m\u001b[0;34m\u001b[0m\u001b[0;34m\u001b[0m\u001b[0m\n\u001b[0m\u001b[1;32m    404\u001b[0m             \u001b[0;32mfinally\u001b[0m\u001b[0;34m:\u001b[0m\u001b[0;34m\u001b[0m\u001b[0;34m\u001b[0m\u001b[0m\n\u001b[1;32m    405\u001b[0m                 \u001b[0;31m# Break a reference cycle with the exception in self._exception\u001b[0m\u001b[0;34m\u001b[0m\u001b[0;34m\u001b[0m\u001b[0m\n",
            "\u001b[0;32m/usr/local/lib/python3.10/dist-packages/tenacity/__init__.py\u001b[0m in \u001b[0;36m__call__\u001b[0;34m(self, fn, *args, **kwargs)\u001b[0m\n\u001b[1;32m    380\u001b[0m             \u001b[0;32mif\u001b[0m \u001b[0misinstance\u001b[0m\u001b[0;34m(\u001b[0m\u001b[0mdo\u001b[0m\u001b[0;34m,\u001b[0m \u001b[0mDoAttempt\u001b[0m\u001b[0;34m)\u001b[0m\u001b[0;34m:\u001b[0m\u001b[0;34m\u001b[0m\u001b[0;34m\u001b[0m\u001b[0m\n\u001b[1;32m    381\u001b[0m                 \u001b[0;32mtry\u001b[0m\u001b[0;34m:\u001b[0m\u001b[0;34m\u001b[0m\u001b[0;34m\u001b[0m\u001b[0m\n\u001b[0;32m--> 382\u001b[0;31m                     \u001b[0mresult\u001b[0m \u001b[0;34m=\u001b[0m \u001b[0mfn\u001b[0m\u001b[0;34m(\u001b[0m\u001b[0;34m*\u001b[0m\u001b[0margs\u001b[0m\u001b[0;34m,\u001b[0m \u001b[0;34m**\u001b[0m\u001b[0mkwargs\u001b[0m\u001b[0;34m)\u001b[0m\u001b[0;34m\u001b[0m\u001b[0;34m\u001b[0m\u001b[0m\n\u001b[0m\u001b[1;32m    383\u001b[0m                 \u001b[0;32mexcept\u001b[0m \u001b[0mBaseException\u001b[0m\u001b[0;34m:\u001b[0m  \u001b[0;31m# noqa: B902\u001b[0m\u001b[0;34m\u001b[0m\u001b[0;34m\u001b[0m\u001b[0m\n\u001b[1;32m    384\u001b[0m                     \u001b[0mretry_state\u001b[0m\u001b[0;34m.\u001b[0m\u001b[0mset_exception\u001b[0m\u001b[0;34m(\u001b[0m\u001b[0msys\u001b[0m\u001b[0;34m.\u001b[0m\u001b[0mexc_info\u001b[0m\u001b[0;34m(\u001b[0m\u001b[0;34m)\u001b[0m\u001b[0;34m)\u001b[0m  \u001b[0;31m# type: ignore[arg-type]\u001b[0m\u001b[0;34m\u001b[0m\u001b[0;34m\u001b[0m\u001b[0m\n",
            "\u001b[0;32m/usr/local/lib/python3.10/dist-packages/langchain_google_genai/chat_models.py\u001b[0m in \u001b[0;36m_chat_with_retry\u001b[0;34m(**kwargs)\u001b[0m\n\u001b[1;32m    142\u001b[0m                     \u001b[0;34m\"langchain_google_vertexai.\"\u001b[0m\u001b[0;34m\u001b[0m\u001b[0;34m\u001b[0m\u001b[0m\n\u001b[1;32m    143\u001b[0m                 )\n\u001b[0;32m--> 144\u001b[0;31m                 \u001b[0;32mraise\u001b[0m \u001b[0mValueError\u001b[0m\u001b[0;34m(\u001b[0m\u001b[0merror_msg\u001b[0m\u001b[0;34m)\u001b[0m\u001b[0;34m\u001b[0m\u001b[0;34m\u001b[0m\u001b[0m\n\u001b[0m\u001b[1;32m    145\u001b[0m \u001b[0;34m\u001b[0m\u001b[0m\n\u001b[1;32m    146\u001b[0m         \u001b[0;32mexcept\u001b[0m \u001b[0mgoogle\u001b[0m\u001b[0;34m.\u001b[0m\u001b[0mapi_core\u001b[0m\u001b[0;34m.\u001b[0m\u001b[0mexceptions\u001b[0m\u001b[0;34m.\u001b[0m\u001b[0mInvalidArgument\u001b[0m \u001b[0;32mas\u001b[0m \u001b[0me\u001b[0m\u001b[0;34m:\u001b[0m\u001b[0;34m\u001b[0m\u001b[0;34m\u001b[0m\u001b[0m\n",
            "\u001b[0;31mValueError\u001b[0m: Your location is not supported by google-generativeai at the moment. Try to use ChatVertexAI LLM from langchain_google_vertexai."
          ]
        }
      ],
      "source": [
        "task_specifier_sys_msg = SystemMessage(content=\"You can make a task more specific.\")\n",
        "task_specifier_prompt = (\n",
        "\"\"\"Here is a task that {assistant_role_name} will discuss with {user_role_name} to : {task}.\n",
        "Please make it more specific. Be creative and imaginative.\n",
        "Please reply with the full task in {word_limit} words or less. Do not add anything else.\"\"\"\n",
        ")\n",
        "\n",
        "task_specifier_template = HumanMessagePromptTemplate.from_template(template=task_specifier_prompt)\n",
        "#task_specify_agent = CAMELAgent(task_specifier_sys_msg, ChatOpenAI(temperature=0.7))\n",
        "task_specify_agent = CAMELAgent(task_specifier_sys_msg, ChatGoogleGenerativeAI(model=\"gemini-pro\", google_api_key=GEMINI_API_KEY))\n",
        "task_specifier_msg = task_specifier_template.format_messages(assistant_role_name=assistant_role_name,\n",
        "                                                             user_role_name=user_role_name,\n",
        "                                                             task=task, word_limit=word_limit)[0]\n",
        "specified_task_msg = task_specify_agent.step(task_specifier_msg)\n",
        "print(f\"Specified task: {specified_task_msg.content}\")\n",
        "specified_task = specified_task_msg.content"
      ]
    },
    {
      "cell_type": "markdown",
      "metadata": {
        "id": "VjQ1BTX5JqwP"
      },
      "source": [
        "## Create inception prompts for AI assistant and AI user for role-playing"
      ]
    },
    {
      "cell_type": "code",
      "execution_count": null,
      "metadata": {
        "id": "Y-CeR0-5Jrh_"
      },
      "outputs": [],
      "source": [
        "assistant_inception_prompt = (\n",
        "\"\"\"Never forget you are a {assistant_role_name} and I am a {user_role_name}. Never flip roles!\n",
        "We share a common interest in collaborating to successfully complete a task.\n",
        "You must help me to complete the task.\n",
        "Here is the task: {task}. Never forget our task!\n",
        "I will instruct you based on your expertise and my needs to complete the task.\n",
        "\n",
        "I must give you one question at a time.\n",
        "You must write a specific answer that appropriately completes the requested question.\n",
        "You must decline my question honestly if you cannot comply the question due to physical, moral, legal reasons or your capability and explain the reasons.\n",
        "Do not add anything else other than your answer to my instruction.\n",
        "\n",
        "Unless I say the task is completed, you should always start with:\n",
        "\n",
        "My response: <YOUR_SOLUTION>\n",
        "\n",
        "<YOUR_SOLUTION> should be specific and descriptive.\n",
        "Always end <YOUR_SOLUTION> with: Next question.\"\"\"\n",
        ")\n",
        "\n",
        "user_inception_prompt = (\n",
        "\"\"\"Never forget you are a {user_role_name} and I am a {assistant_role_name}. Never flip roles! You will always ask me.\n",
        "We share a common interest in collaborating to successfully complete a task.\n",
        "I must help you to answer the questions.\n",
        "Here is the task: {task}. Never forget our task!\n",
        "You must instruct me based on my expertise and your needs to complete the task ONLY in the following two ways:\n",
        "\n",
        "1. Instruct with a necessary input:\n",
        "Instruction: <YOUR_INSTRUCTION>\n",
        "Input: <YOUR_INPUT>\n",
        "\n",
        "2. Instruct without any input:\n",
        "Instruction: <YOUR_INSTRUCTION>\n",
        "Input: None\n",
        "\n",
        "The \"Instruction\" describes a task or question. The paired \"Input\" provides further context or information for the requested \"Instruction\".\n",
        "\n",
        "You must give me one instruction at a time.\n",
        "I must write a response that appropriately completes the requested instruction.\n",
        "I must decline your instruction honestly if I cannot perform the instruction due to physical, moral, legal reasons or my capability and explain the reasons.\n",
        "You should instruct me not ask me questions.\n",
        "Now you must start to instruct me using the two ways described above.\n",
        "Do not add anything else other than your instruction and the optional corresponding input!\n",
        "Keep giving me instructions and necessary inputs until you think the task is completed.\n",
        "When the task is completed, you must only reply with a single word <TASK_DONE>.\n",
        "Never say <TASK_DONE> unless my responses have solved your task.\"\"\"\n",
        ")"
      ]
    },
    {
      "cell_type": "markdown",
      "metadata": {
        "id": "PoDdXh69JxVx"
      },
      "source": [
        "## Create a helper helper to get system messages for AI assistant and AI user from role names and the task\n",
        "\n",
        "- SystemMessage - the guidance\n",
        "- HumanMessage - input\n",
        "- AIMessage - the agent output/response"
      ]
    },
    {
      "cell_type": "code",
      "execution_count": null,
      "metadata": {
        "id": "NAmLAfHzJyH4"
      },
      "outputs": [],
      "source": [
        "def get_sys_msgs(assistant_role_name: str, user_role_name: str, task: str):\n",
        "\n",
        "    assistant_sys_template = SystemMessagePromptTemplate.from_template(template=assistant_inception_prompt)\n",
        "    assistant_sys_msg = assistant_sys_template.format_messages(assistant_role_name=assistant_role_name, user_role_name=user_role_name, task=task)[0]\n",
        "\n",
        "    user_sys_template = SystemMessagePromptTemplate.from_template(template=user_inception_prompt)\n",
        "    user_sys_msg = user_sys_template.format_messages(assistant_role_name=assistant_role_name, user_role_name=user_role_name, task=task)[0]\n",
        "\n",
        "    return assistant_sys_msg, user_sys_msg"
      ]
    },
    {
      "cell_type": "markdown",
      "metadata": {
        "id": "-FcGoL-JJ7NK"
      },
      "source": [
        "## Create AI assistant agent and AI user agent from obtained system message"
      ]
    },
    {
      "cell_type": "code",
      "execution_count": null,
      "metadata": {
        "id": "mMuicNo-J75q"
      },
      "outputs": [],
      "source": [
        "assistant_sys_msg, user_sys_msg = get_sys_msgs(assistant_role_name, user_role_name, specified_task)\n",
        "assistant_agent = CAMELAgent(assistant_sys_msg, ChatOpenAI(temperature=0.2))\n",
        "user_agent = CAMELAgent(user_sys_msg, ChatOpenAI(temperature=0.2))\n",
        "\n",
        "# Reset agents\n",
        "assistant_agent.reset()\n",
        "user_agent.reset()\n",
        "\n",
        "# Initialize chats\n",
        "assistant_msg = HumanMessage(\n",
        "    content=(f\"{user_sys_msg.content}. \"\n",
        "                \"Now start to give me introductions one by one. \"\n",
        "                \"Only reply with Instruction and Input.\"))\n",
        "\n",
        "user_msg = HumanMessage(content=f\"{assistant_sys_msg.content}\")\n",
        "user_msg = assistant_agent.step(user_msg)"
      ]
    },
    {
      "cell_type": "markdown",
      "source": [
        "## Saving the conversation\n"
      ],
      "metadata": {
        "id": "DuhqSJWhKDqZ"
      }
    },
    {
      "cell_type": "code",
      "source": [
        "import datetime\n",
        "import os\n",
        "\n",
        "def write_conversation_to_file(conversation, filename):\n",
        "    \"\"\"\n",
        "    Write a conversation to a text file with a timestamp in its filename.\n",
        "\n",
        "    Parameters:\n",
        "    conversation (list): A list of tuples. Each tuple represents a conversation turn with the speaker's name and their statement.\n",
        "    filename (str): The name of the file to write the conversation to.\n",
        "\n",
        "    Returns:\n",
        "    None\n",
        "    \"\"\"\n",
        "    def timestamp():\n",
        "        \"\"\"\n",
        "        Convert the current date and time into a custom timestamp format.\n",
        "\n",
        "        Returns:\n",
        "        str: The current date and time in the format HHMMDDMMYYYY.\n",
        "        \"\"\"\n",
        "\n",
        "        # Get the current date and time\n",
        "        now = datetime.datetime.now()\n",
        "\n",
        "        # Format the date and time as a string in the desired format\n",
        "        timestamp = now.strftime(\"%H%M%d%m%Y\")\n",
        "\n",
        "        return timestamp\n",
        "\n",
        "    def append_timestamp_to_filename(filename):\n",
        "        \"\"\"\n",
        "        Append a timestamp to a filename before the extension.\n",
        "\n",
        "        Parameters:\n",
        "        filename (str): The original filename.\n",
        "\n",
        "        Returns:\n",
        "        str: The filename with a timestamp appended.\n",
        "        \"\"\"\n",
        "\n",
        "        # Split the filename into the base and extension\n",
        "        base, extension = os.path.splitext(filename)\n",
        "\n",
        "        # Append the timestamp to the base and add the extension back on\n",
        "        new_filename = f\"{base}-{timestamp()}{extension}\"\n",
        "\n",
        "        return new_filename\n",
        "\n",
        "    # Append timestamp to the filename\n",
        "    filename = append_timestamp_to_filename(filename)\n",
        "\n",
        "    with open(filename, 'w') as f:\n",
        "        for turn in conversation:\n",
        "            speaker, statement = turn\n",
        "            f.write(f\"{speaker}: {statement}\\n\\n\")\n",
        "\n",
        "\n"
      ],
      "metadata": {
        "id": "78vuUFNbKHO2"
      },
      "execution_count": null,
      "outputs": []
    },
    {
      "cell_type": "markdown",
      "metadata": {
        "id": "cbX_t0yjJ-us"
      },
      "source": [
        "## Start role-playing session to solve the task!"
      ]
    },
    {
      "cell_type": "code",
      "execution_count": null,
      "metadata": {
        "colab": {
          "base_uri": "https://localhost:8080/"
        },
        "id": "QMgWc49dKCHR",
        "outputId": "209d00b9-e35f-4359-a3fc-84379a02bcef"
      },
      "outputs": [
        {
          "output_type": "stream",
          "name": "stdout",
          "text": [
            "Original task prompt:\n",
            "Discuss the best tourist attractions to see in Singapore\n",
            "\n",
            "Specified task prompt:\n",
            "Task: As a representative of the Singapore Tourism Board, engage in a conversation with a first-time tourist to Singapore and recommend the top three must-visit tourist attractions based on their interests and preferences. Provide insider tips and suggestions on the best time to visit and the most efficient way to get around the city. Aim to create an unforgettable experience for the tourist that will compel them to return to Singapore in the future.\n",
            "\n",
            "AI User (Tourist that has never been to Singapore):\n",
            "\n",
            "Instruction: Ask the tourist what their interests are.\n",
            "Input: None\n",
            "\n",
            "\n",
            "AI Assistant (Singapore Tourism Board ):\n",
            "\n",
            "May I know what are your interests? This will help me recommend the best tourist attractions for you.\n",
            "\n",
            "\n",
            "AI User (Tourist that has never been to Singapore):\n",
            "\n",
            "Instruction: Based on the tourist's response, recommend the top three must-visit tourist attractions in Singapore.\n",
            "Input: Tourist's interests.\n",
            "\n",
            "\n",
            "AI Assistant (Singapore Tourism Board ):\n",
            "\n",
            "Of course! Based on your interests, I would recommend the following top three must-visit tourist attractions in Singapore:\n",
            "\n",
            "1. For someone who loves shopping and entertainment, I would recommend visiting Orchard Road, Marina Bay Sands, and Clarke Quay. Orchard Road is a shopper's paradise with a wide range of shopping malls and boutiques. Marina Bay Sands is a luxurious integrated resort with a casino, shopping mall, and entertainment options like the ArtScience Museum and the Sands SkyPark Observation Deck. Clarke Quay is a vibrant riverside area with a variety of restaurants, bars, and clubs.\n",
            "\n",
            "2. For someone who is interested in history and culture, I would recommend visiting Chinatown, Little India, and the National Museum of Singapore. Chinatown and Little India are both vibrant ethnic enclaves with a rich cultural heritage and a variety of shops, restaurants, and temples. The National Museum of Singapore is a great place to learn about the history and culture of Singapore, with exhibits on everything from ancient history to modern art.\n",
            "\n",
            "3. For someone who loves food and nightlife, I would recommend visiting the hawker centers, Clarke Quay, and the Night Safari. Singapore is known for its delicious street food, and the hawker centers are the best place to try it. Clarke Quay is a great place to enjoy a meal or a drink by the river, while the Night Safari is a unique experience that allows you to see nocturnal animals in their natural habitat.\n",
            "\n",
            "The best time to visit these attractions is during the cooler months of December to February. The most efficient way to get around the city is by using the MRT (Mass Rapid Transit) system, which is fast, reliable, and affordable. Next question.\n",
            "\n",
            "\n",
            "AI User (Tourist that has never been to Singapore):\n",
            "\n",
            "Instruction: Provide insider tips on how to get the most out of visiting each of the recommended attractions.\n",
            "Input: Tourist's preferred attraction.\n",
            "\n",
            "\n",
            "AI Assistant (Singapore Tourism Board ):\n",
            "\n",
            "Sure, here are some insider tips on how to get the most out of visiting each of the recommended attractions:\n",
            "\n",
            "1. Orchard Road: To get the most out of your shopping experience, I recommend visiting during the Great Singapore Sale, which usually takes place from June to August. During this time, you can enjoy discounts of up to 70% off at many stores. If you're interested in entertainment, be sure to catch a show at the Esplanade, which is located nearby.\n",
            "\n",
            "2. Chinatown: To get the most out of your visit to Chinatown, I recommend taking a walking tour with a local guide. This will give you a deeper understanding of the history and culture of the area. Be sure to visit the Buddha Tooth Relic Temple and Museum, which is a beautiful temple with a fascinating history.\n",
            "\n",
            "3. Hawker Centers: To get the most out of your food experience, I recommend trying a variety of dishes from different stalls. Don't be afraid to ask the hawkers for recommendations, as they are usually happy to help. Be sure to try some of the local favorites like Hainanese chicken rice, laksa, and satay.\n",
            "\n",
            "4. Gardens by the Bay: To get the most out of your visit to Gardens by the Bay, I recommend visiting in the evening to see the Supertrees light up. Be sure to catch the Garden Rhapsody light and sound show, which takes place twice nightly. If you're interested in plants, be sure to visit the Flower Dome and the Cloud Forest, which are both beautiful conservatories.\n",
            "\n",
            "5. National Museum of Singapore: To get the most out of your visit to the National Museum of Singapore, I recommend taking a guided tour. This will give you a deeper understanding of the exhibits and the history of Singapore. Be sure to check out the Singapore History Gallery, which is a must-see exhibit that covers the history of Singapore from the 14th century to the present day.\n",
            "\n",
            "6. Night Safari: To get the most out of your visit to the Night Safari, I recommend taking the tram ride, which will take you through the different zones of the park. Be sure to catch the Creatures of the Night show, which is a fun and educational show that features nocturnal animals. If you're interested in a more immersive experience, you can also take a walking trail with a guide.\n",
            "\n",
            "I hope these tips help you make the most of your visit to Singapore! Next question.\n",
            "\n",
            "\n",
            "AI User (Tourist that has never been to Singapore):\n",
            "\n",
            "Instruction: Provide suggestions for other activities or attractions that the tourist might enjoy based on their interests.\n",
            "Input: Tourist's interests.\n",
            "\n",
            "\n",
            "AI Assistant (Singapore Tourism Board ):\n",
            "\n",
            "Certainly! Here are some additional suggestions for activities or attractions that you might enjoy based on your interests:\n",
            "\n",
            "1. For nature lovers: If you enjoyed MacRitchie Reservoir and Pulau Ubin, you might also enjoy visiting the Singapore Botanic Gardens, which is a beautiful park with a variety of plants and flowers. You might also enjoy visiting the Southern Ridges, which is a network of trails and bridges that connect several parks and nature reserves.\n",
            "\n",
            "2. For art and culture enthusiasts: If you enjoyed the ArtScience Museum at Marina Bay Sands, you might also enjoy visiting the National Gallery Singapore, which is a museum that showcases Southeast Asian art. You might also enjoy catching a performance at the Esplanade, which is a performing arts center that hosts a variety of shows and concerts.\n",
            "\n",
            "3. For thrill-seekers: If you enjoyed the Night Safari, you might also enjoy visiting Universal Studios Singapore, which is a theme park with a variety of rides and attractions. You might also enjoy visiting Sentosa Island, which is a resort island with a variety of activities like ziplining, bungee jumping, and indoor skydiving.\n",
            "\n",
            "4. For foodies: If you enjoyed the hawker centers, you might also enjoy taking a food tour with a local guide, which will allow you to try a variety of dishes from different neighborhoods. You might also enjoy visiting the Geylang Serai Market, which is a bustling market with a variety of Malay and Indian food stalls.\n",
            "\n",
            "I hope these suggestions help you plan your itinerary and make the most of your visit to Singapore! Next question.\n",
            "\n",
            "\n",
            "AI User (Tourist that has never been to Singapore):\n",
            "\n",
            "Instruction: Provide information on the best areas to stay in Singapore based on the tourist's interests and preferences.\n",
            "Input: Tourist's interests and preferences.\n",
            "\n",
            "\n",
            "AI Assistant (Singapore Tourism Board ):\n",
            "\n",
            "Certainly! Here are some recommendations for the best areas to stay in Singapore based on your interests and preferences:\n",
            "\n",
            "1. For shopping and entertainment: If you're interested in shopping and entertainment, I recommend staying in the Orchard Road area. This area is home to a variety of shopping malls, restaurants, and entertainment options like cinemas and theaters. Some popular hotels in this area include the Mandarin Orchard Singapore and the Grand Park Orchard.\n",
            "\n",
            "2. For history and culture: If you're interested in history and culture, I recommend staying in the Chinatown area. This area is home to a variety of temples, museums, and cultural landmarks like the Sri Mariamman Temple and the Chinatown Heritage Centre. Some popular hotels in this area include the Scarlet Singapore and the Six Senses Duxton.\n",
            "\n",
            "3. For food and nightlife: If you're interested in food and nightlife, I recommend staying in the Clarke Quay area. This area is home to a variety of restaurants, bars, and clubs, as well as the popular riverside dining and entertainment destination, Clarke Quay. Some popular hotels in this area include the Swissotel Merchant Court and the Novotel Singapore Clarke Quay.\n",
            "\n",
            "4. For nature and outdoor activities: If you're interested in nature and outdoor activities, I recommend staying in the Marina Bay area. This area is home to attractions like Gardens by the Bay and the Marina Bay Sands SkyPark, as well as the Marina Bay waterfront promenade. Some popular hotels in this area include the Marina Bay Sands and the Mandarin Oriental Singapore.\n",
            "\n",
            "I hope these recommendations help you choose the best area to stay in Singapore based on your interests and preferences! Next question.\n",
            "\n",
            "\n",
            "AI User (Tourist that has never been to Singapore):\n",
            "\n",
            "Instruction: Provide information on the best time of year to visit Singapore and why.\n",
            "Input: None.\n",
            "\n",
            "\n",
            "AI Assistant (Singapore Tourism Board ):\n",
            "\n",
            "The best time of year to visit Singapore is during the cooler months of December to February. During this time, the weather is generally cooler and less humid, making it more comfortable for outdoor activities. Additionally, this is the time when many festivals and events take place in Singapore, such as the Christmas Light-Up on Orchard Road and the Chinese New Year celebrations in Chinatown. \n",
            "\n",
            "However, it's worth noting that Singapore is a year-round destination, and there are plenty of things to see and do no matter when you visit. The only thing to keep in mind is that Singapore can be quite humid and rainy throughout the year, so it's important to pack accordingly and plan indoor activities in case of rain. \n",
            "\n",
            "Overall, the best time to visit Singapore depends on your personal preferences and interests. If you're looking for cooler weather and festive events, then December to February is the best time to visit. If you're looking for lower prices and fewer crowds, then the shoulder seasons of March to May and September to November might be a better option. Next question.\n",
            "\n",
            "\n",
            "AI User (Tourist that has never been to Singapore):\n",
            "\n",
            "Instruction: Provide information on the most efficient way to get around Singapore.\n",
            "Input: None.\n",
            "\n",
            "\n",
            "AI Assistant (Singapore Tourism Board ):\n",
            "\n",
            "The most efficient way to get around Singapore is by using the MRT (Mass Rapid Transit) system. The MRT is a fast, reliable, and affordable way to travel around the city, with trains running every few minutes. The MRT network covers most of the major tourist attractions and neighborhoods in Singapore, making it easy to get around without a car.\n",
            "\n",
            "In addition to the MRT, there are also buses and taxis available in Singapore. Buses are a good option for shorter distances or for traveling to areas that are not covered by the MRT. Taxis are also widely available and can be hailed on the street or booked through a ride-hailing app like Grab or Gojek.\n",
            "\n",
            "Another option for getting around Singapore is by walking or cycling. Singapore is a relatively small city, and many of the major tourist attractions are located within walking distance of each other. There are also a number of parks and nature reserves in Singapore that are great for cycling.\n",
            "\n",
            "Overall, the most efficient way to get around Singapore depends on your personal preferences and itinerary. If you're planning to visit multiple tourist attractions in a day, then the MRT is likely the best option. If you're looking for a more leisurely way to explore the city, then walking or cycling might be a better option. Next question.\n",
            "\n",
            "\n",
            "AI User (Tourist that has never been to Singapore):\n",
            "\n",
            "Instruction: Provide a summary of the top three must-visit tourist attractions in Singapore and the insider tips to get the most out of visiting them.\n",
            "Input: None.\n",
            "\n",
            "\n",
            "AI Assistant (Singapore Tourism Board ):\n",
            "\n",
            "Sure, here's a summary of the top three must-visit tourist attractions in Singapore and the insider tips to get the most out of visiting them:\n",
            "\n",
            "1. Gardens by the Bay: This stunning nature park is a must-visit attraction in Singapore. Insider tips include visiting in the evening to see the Supertrees light up and catching the Garden Rhapsody light and sound show. Be sure to also visit the Flower Dome and the Cloud Forest, which are both beautiful conservatories.\n",
            "\n",
            "2. Chinatown: This vibrant ethnic enclave is a great place to learn about the history and culture of Singapore. Insider tips include taking a walking tour with a local guide to get a deeper understanding of the area and visiting the Buddha Tooth Relic Temple and Museum, which is a beautiful temple with a fascinating history.\n",
            "\n",
            "3. Hawker Centers: Singapore is known for its delicious street food, and the hawker centers are the best place to try it. Insider tips include trying a variety of dishes from different stalls and asking the hawkers for recommendations. Be sure to try some of the local favorites like Hainanese chicken rice, laksa, and satay.\n",
            "\n",
            "The best time to visit these attractions is during the cooler months of December to February. The most efficient way to get around the city is by using the MRT (Mass Rapid Transit) system, which is fast, reliable, and affordable. \n",
            "\n",
            "I hope this summary helps you plan your itinerary and make the most of your visit to Singapore! Next question.\n",
            "\n",
            "\n",
            "AI User (Tourist that has never been to Singapore):\n",
            "\n",
            "Instruction: Ask the tourist if they have any further questions or if there is anything else they would like to know about visiting Singapore.\n",
            "Input: None.\n",
            "\n",
            "\n",
            "AI Assistant (Singapore Tourism Board ):\n",
            "\n",
            "Do you have any further questions or is there anything else you would like to know about visiting Singapore? I'm here to help!\n",
            "\n",
            "\n",
            "AI User (Tourist that has never been to Singapore):\n",
            "\n",
            "Instruction: Provide a list of emergency contact numbers that the tourist should keep handy during their visit to Singapore.\n",
            "Input: None.\n",
            "\n",
            "\n",
            "AI Assistant (Singapore Tourism Board ):\n",
            "\n",
            "Sure, here's a list of emergency contact numbers that the tourist should keep handy during their visit to Singapore:\n",
            "\n",
            "1. Police: 999\n",
            "2. Ambulance and Fire: 995\n",
            "3. Non-emergency ambulance: 1777\n",
            "4. Tourist Police Hotline: +65 1800 736 2000\n",
            "5. Traffic Police: +65 6547 0000\n",
            "6. Singapore Civil Defence Force (SCDF): +65 6848 0000\n",
            "\n",
            "It's always a good idea to keep these numbers handy in case of an emergency. Additionally, if you're traveling with a mobile phone, be sure to enable roaming or purchase a local SIM card so that you can make calls in case of an emergency. Next question.\n",
            "\n",
            "\n",
            "AI User (Tourist that has never been to Singapore):\n",
            "\n",
            "Instruction: Provide information on the local customs and etiquette that the tourist should be aware of when visiting Singapore.\n",
            "Input: None.\n",
            "\n",
            "\n",
            "AI Assistant (Singapore Tourism Board ):\n",
            "\n",
            "Sure, here's some information on local customs and etiquette that the tourist should be aware of when visiting Singapore:\n",
            "\n",
            "1. Dress modestly: Singapore is a conservative society, so it's important to dress modestly, especially when visiting religious sites. Avoid wearing revealing clothing or clothing with offensive slogans.\n",
            "\n",
            "2. Remove your shoes: It's customary to remove your shoes when entering someone's home or a place of worship. Look for signs or ask if you're unsure.\n",
            "\n",
            "3. Don't litter: Singapore is known for its cleanliness, and littering is a serious offense. Be sure to dispose of your trash properly and avoid eating or drinking on public transportation.\n",
            "\n",
            "4. Don't chew gum: Chewing gum is banned in Singapore, so be sure to leave your gum at home.\n",
            "\n",
            "5. Respect local customs: Singapore is a multicultural society, and it's important to respect local customs and traditions. Be mindful of local customs and avoid behaviors that might be considered disrespectful.\n",
            "\n",
            "6. Don't tip: Tipping is not customary in Singapore, as a service charge is usually included in the bill.\n",
            "\n",
            "Overall, Singapore is a relatively conservative society, and it's important to be respectful of local customs and traditions. By following these guidelines, you can ensure a smooth and enjoyable visit to Singapore. Next question.\n",
            "\n",
            "\n",
            "AI User (Tourist that has never been to Singapore):\n",
            "\n",
            "Instruction: Thank the tourist for their time and offer any final assistance before ending the conversation.\n",
            "Input: None.\n",
            "\n",
            "\n",
            "AI Assistant (Singapore Tourism Board ):\n",
            "\n",
            "Thank you for your time and for allowing me to assist you in planning your visit to Singapore. If you have any further questions or need any additional assistance, please don't hesitate to ask. I hope you have a wonderful trip and enjoy your time in Singapore!\n",
            "\n",
            "\n",
            "AI User (Tourist that has never been to Singapore):\n",
            "\n",
            "Instruction: End the conversation.\n",
            "Input: None.\n",
            "\n",
            "\n",
            "AI Assistant (Singapore Tourism Board ):\n",
            "\n",
            "Great! Have a wonderful day and safe travels to Singapore!\n",
            "\n",
            "\n",
            "AI User (Tourist that has never been to Singapore):\n",
            "\n",
            "Thank you! Have a great day!\n",
            "\n",
            "\n",
            "AI Assistant (Singapore Tourism Board ):\n",
            "\n",
            "You're welcome! Have a great day too!\n",
            "\n",
            "\n",
            "AI User (Tourist that has never been to Singapore):\n",
            "\n",
            "Thank you! Goodbye!\n",
            "\n",
            "\n",
            "AI Assistant (Singapore Tourism Board ):\n",
            "\n",
            "Goodbye!\n",
            "\n",
            "\n",
            "Total Successful Requests: 30\n",
            "Total Tokens Used: 85232\n",
            "Prompt Tokens: 82096\n",
            "Completion Tokens: 3136\n",
            "Total Cost (USD): $0.170464\n"
          ]
        }
      ],
      "source": [
        "print(f\"Original task prompt:\\n{task}\\n\")\n",
        "print(f\"Specified task prompt:\\n{specified_task}\\n\")\n",
        "\n",
        "conversation = []\n",
        "\n",
        "with get_openai_callback() as cb:\n",
        "    chat_turn_limit, n = 15, 0\n",
        "    while n < chat_turn_limit:\n",
        "        n += 1\n",
        "        user_ai_msg = user_agent.step(assistant_msg)\n",
        "        user_msg = HumanMessage(content=user_ai_msg.content)\n",
        "        print(f\"AI User ({user_role_name}):\\n\\n{user_msg.content}\\n\\n\")\n",
        "        conversation.append((user_role_name,user_msg.content))\n",
        "\n",
        "        assistant_ai_msg = assistant_agent.step(user_msg)\n",
        "        assistant_msg = HumanMessage(content=assistant_ai_msg.content)\n",
        "        print(f\"AI Assistant ({assistant_role_name}):\\n\\n{assistant_msg.content}\\n\\n\")\n",
        "        conversation.append((assistant_role_name,assistant_msg.content))\n",
        "        if \"<TASK_DONE>\" in user_msg.content:\n",
        "            break\n",
        "    print(f\"Total Successful Requests: {cb.successful_requests}\")\n",
        "    print(f\"Total Tokens Used: {cb.total_tokens}\")\n",
        "    print(f\"Prompt Tokens: {cb.prompt_tokens}\")\n",
        "    print(f\"Completion Tokens: {cb.completion_tokens}\")\n",
        "    print(f\"Total Cost (USD): ${cb.total_cost}\")\n",
        "\n",
        "write_conversation_to_file(conversation, 'conversation.txt')"
      ]
    },
    {
      "cell_type": "code",
      "execution_count": null,
      "metadata": {
        "id": "D3AqOUSkQgSQ"
      },
      "outputs": [],
      "source": [
        "# write_conversation_to_file(conversation, 'conversation.txt')"
      ]
    },
    {
      "cell_type": "code",
      "source": [],
      "metadata": {
        "id": "mPM6ufjzVLIs"
      },
      "execution_count": null,
      "outputs": []
    }
  ],
  "metadata": {
    "colab": {
      "provenance": [],
      "include_colab_link": true
    },
    "kernelspec": {
      "display_name": "Python 3",
      "name": "python3"
    },
    "language_info": {
      "name": "python"
    }
  },
  "nbformat": 4,
  "nbformat_minor": 0
}